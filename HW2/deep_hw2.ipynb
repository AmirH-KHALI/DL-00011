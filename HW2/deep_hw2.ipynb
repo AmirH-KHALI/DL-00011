{
  "nbformat": 4,
  "nbformat_minor": 0,
  "metadata": {
    "colab": {
      "name": "deep_hw2.ipynb",
      "provenance": [],
      "collapsed_sections": []
    },
    "kernelspec": {
      "name": "python3",
      "display_name": "Python 3"
    },
    "language_info": {
      "name": "python"
    }
  },
  "cells": [
    {
      "cell_type": "markdown",
      "metadata": {
        "id": "KDCDVr9cOdt9"
      },
      "source": [
        "# **Q1**"
      ]
    },
    {
      "cell_type": "markdown",
      "metadata": {
        "id": "Adc7VLlCOg7y"
      },
      "source": [
        "Imports"
      ]
    },
    {
      "cell_type": "code",
      "metadata": {
        "id": "T-O6__VNZCCl"
      },
      "source": [
        "import pandas as pd\n",
        "import numpy as np"
      ],
      "execution_count": 1,
      "outputs": []
    },
    {
      "cell_type": "markdown",
      "metadata": {
        "id": "OECXImEkOjuP"
      },
      "source": [
        "Load data and set hyper parameters"
      ]
    },
    {
      "cell_type": "code",
      "metadata": {
        "colab": {
          "base_uri": "https://localhost:8080/",
          "height": 295
        },
        "id": "v4pQBcVyIHJw",
        "outputId": "1e048948-3aba-405c-abd3-881a0ff33b98"
      },
      "source": [
        "batch_size = 2\n",
        "learning_rate = 0.05\n",
        "w = [1, 1, 1]\n",
        "\n",
        "data_set = pd.DataFrame([[22, 1, 1, 0], [25, 0, 1, 0], [47, 1, 1, 1], [52, 0, 1, 0], [46, 1, 1, 1], [56, 1, 1, 1], [55, 0, 1, 0], [60, 0, 1, 1]], columns=['x1', 'x2', 'b', 'y'])\n",
        "data_set"
      ],
      "execution_count": 2,
      "outputs": [
        {
          "output_type": "execute_result",
          "data": {
            "text/html": [
              "<div>\n",
              "<style scoped>\n",
              "    .dataframe tbody tr th:only-of-type {\n",
              "        vertical-align: middle;\n",
              "    }\n",
              "\n",
              "    .dataframe tbody tr th {\n",
              "        vertical-align: top;\n",
              "    }\n",
              "\n",
              "    .dataframe thead th {\n",
              "        text-align: right;\n",
              "    }\n",
              "</style>\n",
              "<table border=\"1\" class=\"dataframe\">\n",
              "  <thead>\n",
              "    <tr style=\"text-align: right;\">\n",
              "      <th></th>\n",
              "      <th>x1</th>\n",
              "      <th>x2</th>\n",
              "      <th>b</th>\n",
              "      <th>y</th>\n",
              "    </tr>\n",
              "  </thead>\n",
              "  <tbody>\n",
              "    <tr>\n",
              "      <th>0</th>\n",
              "      <td>22</td>\n",
              "      <td>1</td>\n",
              "      <td>1</td>\n",
              "      <td>0</td>\n",
              "    </tr>\n",
              "    <tr>\n",
              "      <th>1</th>\n",
              "      <td>25</td>\n",
              "      <td>0</td>\n",
              "      <td>1</td>\n",
              "      <td>0</td>\n",
              "    </tr>\n",
              "    <tr>\n",
              "      <th>2</th>\n",
              "      <td>47</td>\n",
              "      <td>1</td>\n",
              "      <td>1</td>\n",
              "      <td>1</td>\n",
              "    </tr>\n",
              "    <tr>\n",
              "      <th>3</th>\n",
              "      <td>52</td>\n",
              "      <td>0</td>\n",
              "      <td>1</td>\n",
              "      <td>0</td>\n",
              "    </tr>\n",
              "    <tr>\n",
              "      <th>4</th>\n",
              "      <td>46</td>\n",
              "      <td>1</td>\n",
              "      <td>1</td>\n",
              "      <td>1</td>\n",
              "    </tr>\n",
              "    <tr>\n",
              "      <th>5</th>\n",
              "      <td>56</td>\n",
              "      <td>1</td>\n",
              "      <td>1</td>\n",
              "      <td>1</td>\n",
              "    </tr>\n",
              "    <tr>\n",
              "      <th>6</th>\n",
              "      <td>55</td>\n",
              "      <td>0</td>\n",
              "      <td>1</td>\n",
              "      <td>0</td>\n",
              "    </tr>\n",
              "    <tr>\n",
              "      <th>7</th>\n",
              "      <td>60</td>\n",
              "      <td>0</td>\n",
              "      <td>1</td>\n",
              "      <td>1</td>\n",
              "    </tr>\n",
              "  </tbody>\n",
              "</table>\n",
              "</div>"
            ],
            "text/plain": [
              "   x1  x2  b  y\n",
              "0  22   1  1  0\n",
              "1  25   0  1  0\n",
              "2  47   1  1  1\n",
              "3  52   0  1  0\n",
              "4  46   1  1  1\n",
              "5  56   1  1  1\n",
              "6  55   0  1  0\n",
              "7  60   0  1  1"
            ]
          },
          "metadata": {},
          "execution_count": 2
        }
      ]
    },
    {
      "cell_type": "markdown",
      "metadata": {
        "id": "KzO8cg4uOx_B"
      },
      "source": [
        "Train"
      ]
    },
    {
      "cell_type": "code",
      "metadata": {
        "colab": {
          "base_uri": "https://localhost:8080/"
        },
        "id": "cpx8LgNMIJWn",
        "outputId": "f4bf00e2-0b53-429d-86e2-0ecb09228bf2"
      },
      "source": [
        "for epoch in range(2):\n",
        "    for iteration in range(data_set.shape[0] // batch_size):\n",
        "        batch = data_set.loc[batch_size * iteration: batch_size * iteration + batch_size - 1]\n",
        "        \n",
        "        y_hat = []\n",
        "        for b in batch.values:\n",
        "            y_hat.append(1 / (1 + np.exp(-np.multiply(w, b[:3]).sum())))\n",
        "        # print('y_hat:', y_hat)\n",
        "\n",
        "        L = (-1 / batch_size) * np.add(np.multiply(batch['y'], np.log(y_hat)), np.multiply(np.subtract(1, batch['y']), np.log(np.subtract(1, y_hat)))).sum()\n",
        "        # print('L:', L)\n",
        "\n",
        "        for i in range(len(w)):\n",
        "            w[i] = np.subtract(w[i], learning_rate * (-1 / batch_size) * np.multiply(np.subtract(batch['y'], y_hat), batch[batch.columns[i]] ).sum())\n",
        "            # print((-1 / batch_size) * np.multiply(np.subtract(batch['y'], y_hat), batch[batch.columns[i]] ).sum())\n",
        "        print('w:', w)\n",
        "        "
      ],
      "execution_count": 3,
      "outputs": [
        {
          "output_type": "stream",
          "name": "stdout",
          "text": [
            "w: [-0.17499999997604365, 0.9750000000009438, 0.9500000000010715]\n",
            "w: [0.9974710491433747, 0.9999541765273299, 0.9749469602270591]\n",
            "w: [0.9974710491433747, 0.9999541765273299, 0.9749469602270591]\n",
            "w: [-0.3775289508566253, 0.9999541765273299, 0.949946960227059]\n",
            "w: [-0.3786111518557669, 0.9999108328833569, 0.9498984709498166]\n",
            "w: [0.7963886842666572, 1.0249108295980127, 0.9748984674824263]\n",
            "w: [0.7963886842666572, 1.0249108295980127, 0.9748984674824263]\n",
            "w: [-0.5786113157333428, 1.0249108295980127, 0.9498984674824262]\n"
          ]
        },
        {
          "output_type": "stream",
          "name": "stderr",
          "text": [
            "/usr/local/lib/python3.7/dist-packages/ipykernel_launcher.py:10: RuntimeWarning: divide by zero encountered in log\n",
            "  # Remove the CWD from sys.path while we load stuff.\n"
          ]
        }
      ]
    },
    {
      "cell_type": "markdown",
      "metadata": {
        "id": "tgycYM17PGA0"
      },
      "source": [
        "# **Q2**"
      ]
    },
    {
      "cell_type": "markdown",
      "metadata": {
        "id": "9UOM71J0Tyx0"
      },
      "source": [
        "Imports"
      ]
    },
    {
      "cell_type": "code",
      "metadata": {
        "id": "3UeveIj5Tyx2"
      },
      "source": [
        "import pandas as pd\n",
        "import numpy as np\n",
        "import matplotlib.pyplot as plt\n",
        "from sklearn.linear_model import LogisticRegression, LinearRegression\n",
        "import matplotlib.patches as mpatches"
      ],
      "execution_count": 4,
      "outputs": []
    },
    {
      "cell_type": "markdown",
      "metadata": {
        "id": "xzhv46ZhU02q"
      },
      "source": [
        "Load input data\n"
      ]
    },
    {
      "cell_type": "code",
      "metadata": {
        "colab": {
          "base_uri": "https://localhost:8080/",
          "height": 418
        },
        "id": "3tXK70vVTzd7",
        "outputId": "67dcc7bd-05d7-4a47-b845-fd3704f1dcee"
      },
      "source": [
        "data_set = pd.DataFrame([[2.3, 0], [1.4, 0], [2.6, 0], [3.1, 0], [1.8, 0], [2.8, 0], [5.4, 1], [6.3, 1], [5.8, 1], [6.7, 1], [4.9, 1], [45.2, 1]], columns=['x', 'y'])\n",
        "data_set"
      ],
      "execution_count": 5,
      "outputs": [
        {
          "output_type": "execute_result",
          "data": {
            "text/html": [
              "<div>\n",
              "<style scoped>\n",
              "    .dataframe tbody tr th:only-of-type {\n",
              "        vertical-align: middle;\n",
              "    }\n",
              "\n",
              "    .dataframe tbody tr th {\n",
              "        vertical-align: top;\n",
              "    }\n",
              "\n",
              "    .dataframe thead th {\n",
              "        text-align: right;\n",
              "    }\n",
              "</style>\n",
              "<table border=\"1\" class=\"dataframe\">\n",
              "  <thead>\n",
              "    <tr style=\"text-align: right;\">\n",
              "      <th></th>\n",
              "      <th>x</th>\n",
              "      <th>y</th>\n",
              "    </tr>\n",
              "  </thead>\n",
              "  <tbody>\n",
              "    <tr>\n",
              "      <th>0</th>\n",
              "      <td>2.3</td>\n",
              "      <td>0</td>\n",
              "    </tr>\n",
              "    <tr>\n",
              "      <th>1</th>\n",
              "      <td>1.4</td>\n",
              "      <td>0</td>\n",
              "    </tr>\n",
              "    <tr>\n",
              "      <th>2</th>\n",
              "      <td>2.6</td>\n",
              "      <td>0</td>\n",
              "    </tr>\n",
              "    <tr>\n",
              "      <th>3</th>\n",
              "      <td>3.1</td>\n",
              "      <td>0</td>\n",
              "    </tr>\n",
              "    <tr>\n",
              "      <th>4</th>\n",
              "      <td>1.8</td>\n",
              "      <td>0</td>\n",
              "    </tr>\n",
              "    <tr>\n",
              "      <th>5</th>\n",
              "      <td>2.8</td>\n",
              "      <td>0</td>\n",
              "    </tr>\n",
              "    <tr>\n",
              "      <th>6</th>\n",
              "      <td>5.4</td>\n",
              "      <td>1</td>\n",
              "    </tr>\n",
              "    <tr>\n",
              "      <th>7</th>\n",
              "      <td>6.3</td>\n",
              "      <td>1</td>\n",
              "    </tr>\n",
              "    <tr>\n",
              "      <th>8</th>\n",
              "      <td>5.8</td>\n",
              "      <td>1</td>\n",
              "    </tr>\n",
              "    <tr>\n",
              "      <th>9</th>\n",
              "      <td>6.7</td>\n",
              "      <td>1</td>\n",
              "    </tr>\n",
              "    <tr>\n",
              "      <th>10</th>\n",
              "      <td>4.9</td>\n",
              "      <td>1</td>\n",
              "    </tr>\n",
              "    <tr>\n",
              "      <th>11</th>\n",
              "      <td>45.2</td>\n",
              "      <td>1</td>\n",
              "    </tr>\n",
              "  </tbody>\n",
              "</table>\n",
              "</div>"
            ],
            "text/plain": [
              "       x  y\n",
              "0    2.3  0\n",
              "1    1.4  0\n",
              "2    2.6  0\n",
              "3    3.1  0\n",
              "4    1.8  0\n",
              "5    2.8  0\n",
              "6    5.4  1\n",
              "7    6.3  1\n",
              "8    5.8  1\n",
              "9    6.7  1\n",
              "10   4.9  1\n",
              "11  45.2  1"
            ]
          },
          "metadata": {},
          "execution_count": 5
        }
      ]
    },
    {
      "cell_type": "markdown",
      "metadata": {
        "id": "UI2djXx_cUl1"
      },
      "source": [
        "Fit Logistic Regression"
      ]
    },
    {
      "cell_type": "code",
      "metadata": {
        "colab": {
          "base_uri": "https://localhost:8080/"
        },
        "id": "uNaP12pze21o",
        "outputId": "a79e268b-d644-41b9-aa3c-31348f32d484"
      },
      "source": [
        "lo_model = LogisticRegression()\n",
        "lo_model.fit(np.array(data_set['x']).reshape(-1, 1), data_set['y'])\n",
        "\n",
        "lo_w = lo_model.coef_[0]\n",
        "lo_b = lo_model.intercept_[0]\n",
        "lo_boundary = -lo_b / lo_w\n",
        "print('w:', lo_w, 'b:', lo_b, 'boundary:', lo_boundary)"
      ],
      "execution_count": 6,
      "outputs": [
        {
          "output_type": "stream",
          "name": "stdout",
          "text": [
            "w: [1.43516077] b: -5.924735403729955 boundary: [4.12827297]\n"
          ]
        }
      ]
    },
    {
      "cell_type": "markdown",
      "metadata": {
        "id": "htl_LPS4dlG3"
      },
      "source": [
        "Fit Linear Regression"
      ]
    },
    {
      "cell_type": "code",
      "metadata": {
        "colab": {
          "base_uri": "https://localhost:8080/"
        },
        "id": "OGndOlU_cpJt",
        "outputId": "08e502f1-d5fb-4ecf-aba2-c7f5b2a80ac2"
      },
      "source": [
        "li_model = LinearRegression()\n",
        "li_model.fit(np.array(data_set['x']).reshape(-1, 1), data_set['y'])\n",
        "\n",
        "li_w = list(li_model.coef_)\n",
        "li_b = li_model.intercept_\n",
        "li_boundary = (0.5 - li_b)/li_w[0]\n",
        "print('w:', li_w, 'b:', li_b, 'boundary:', li_boundary)"
      ],
      "execution_count": 7,
      "outputs": [
        {
          "output_type": "stream",
          "name": "stdout",
          "text": [
            "w: [0.01885094674164668] b: 0.36128845022604983 boundary: 7.358333333333335\n"
          ]
        }
      ]
    },
    {
      "cell_type": "markdown",
      "metadata": {
        "id": "3NSVSB5DcV5q"
      },
      "source": [
        "Plot"
      ]
    },
    {
      "cell_type": "code",
      "metadata": {
        "colab": {
          "base_uri": "https://localhost:8080/",
          "height": 227
        },
        "id": "Q6_o10YycWyI",
        "outputId": "88f12823-b2c1-44a3-ac5a-c27f39fdc1ef"
      },
      "source": [
        "colormap = np.array(['green', 'blue'])\n",
        "plt.figure(figsize=(18, 3))\n",
        "\n",
        "plt.scatter(data_set['x'], data_set['y'], c=colormap[data_set['y']])\n",
        "tmp_X = np.linspace(0, 50, 1000)\n",
        "\n",
        "plt.plot(tmp_X, 1 / (1 + np.exp(-(lo_w[0] * tmp_X + lo_b))) , c='red')\n",
        "plt.axvline(lo_boundary, c='red')\n",
        "\n",
        "plt.plot(tmp_X, tmp_X * li_w[0] + li_b, c='Purple')\n",
        "plt.axvline(li_boundary, c='Purple')\n",
        "\n",
        "plt.title('Logistic Regression vs Linear Regression')\n",
        "\n",
        "plt.show()"
      ],
      "execution_count": 8,
      "outputs": [
        {
          "output_type": "display_data",
          "data": {
            "image/png": "[encoded data removed]",
            "text/plain": [
              "<Figure size 1296x216 with 1 Axes>"
            ]
          },
          "metadata": {
            "needs_background": "light"
          }
        }
      ]
    },
    {
      "cell_type": "markdown",
      "metadata": {
        "id": "F2yD4XXsmhkW"
      },
      "source": [
        "# **Q3**"
      ]
    },
    {
      "cell_type": "markdown",
      "metadata": {
        "id": "CSxw6colmlEI"
      },
      "source": [
        "Imports"
      ]
    },
    {
      "cell_type": "code",
      "metadata": {
        "id": "u1nutw4VmkjX"
      },
      "source": [
        "import numpy as np\n",
        "import matplotlib.pyplot as plt\n",
        "from sklearn.linear_model import LogisticRegression\n",
        "from sklearn.model_selection import train_test_split\n",
        "from sklearn.preprocessing import StandardScaler\n",
        "from sklearn import datasets\n",
        "import matplotlib.patches as mpatches\n",
        "from sklearn.metrics import classification_report, confusion_matrix\n",
        "from sklearn.metrics import plot_confusion_matrix\n",
        "import seaborn as sns"
      ],
      "execution_count": 9,
      "outputs": []
    },
    {
      "cell_type": "markdown",
      "metadata": {
        "id": "HVtnOZINoXiH"
      },
      "source": [
        "Hyperparameters"
      ]
    },
    {
      "cell_type": "code",
      "metadata": {
        "id": "BcSAECNUoWaV"
      },
      "source": [
        "test_prop = .3 "
      ],
      "execution_count": 10,
      "outputs": []
    },
    {
      "cell_type": "markdown",
      "metadata": {
        "id": "JzBtikIgmsaD"
      },
      "source": [
        "Load data set"
      ]
    },
    {
      "cell_type": "code",
      "metadata": {
        "colab": {
          "base_uri": "https://localhost:8080/",
          "height": 417
        },
        "id": "ToVBllqymuAj",
        "outputId": "3136c777-85dd-4cd0-ca2c-b8bb09e4f269"
      },
      "source": [
        "iris = datasets.load_iris()\n",
        "\n",
        "X = iris.data[:, :2]\n",
        "X = pd.DataFrame(X, columns=['feature_1', 'feature_2'])\n",
        "\n",
        "Y = iris.target\n",
        "Y = pd.DataFrame(Y, columns=['result'])\n",
        "\n",
        "x_train, x_test, y_train, y_test = train_test_split(X, Y, test_size=test_prop)\n",
        "x_train"
      ],
      "execution_count": 11,
      "outputs": [
        {
          "output_type": "execute_result",
          "data": {
            "text/html": [
              "<div>\n",
              "<style scoped>\n",
              "    .dataframe tbody tr th:only-of-type {\n",
              "        vertical-align: middle;\n",
              "    }\n",
              "\n",
              "    .dataframe tbody tr th {\n",
              "        vertical-align: top;\n",
              "    }\n",
              "\n",
              "    .dataframe thead th {\n",
              "        text-align: right;\n",
              "    }\n",
              "</style>\n",
              "<table border=\"1\" class=\"dataframe\">\n",
              "  <thead>\n",
              "    <tr style=\"text-align: right;\">\n",
              "      <th></th>\n",
              "      <th>feature_1</th>\n",
              "      <th>feature_2</th>\n",
              "    </tr>\n",
              "  </thead>\n",
              "  <tbody>\n",
              "    <tr>\n",
              "      <th>148</th>\n",
              "      <td>6.2</td>\n",
              "      <td>3.4</td>\n",
              "    </tr>\n",
              "    <tr>\n",
              "      <th>128</th>\n",
              "      <td>6.4</td>\n",
              "      <td>2.8</td>\n",
              "    </tr>\n",
              "    <tr>\n",
              "      <th>22</th>\n",
              "      <td>4.6</td>\n",
              "      <td>3.6</td>\n",
              "    </tr>\n",
              "    <tr>\n",
              "      <th>28</th>\n",
              "      <td>5.2</td>\n",
              "      <td>3.4</td>\n",
              "    </tr>\n",
              "    <tr>\n",
              "      <th>3</th>\n",
              "      <td>4.6</td>\n",
              "      <td>3.1</td>\n",
              "    </tr>\n",
              "    <tr>\n",
              "      <th>...</th>\n",
              "      <td>...</td>\n",
              "      <td>...</td>\n",
              "    </tr>\n",
              "    <tr>\n",
              "      <th>95</th>\n",
              "      <td>5.7</td>\n",
              "      <td>3.0</td>\n",
              "    </tr>\n",
              "    <tr>\n",
              "      <th>0</th>\n",
              "      <td>5.1</td>\n",
              "      <td>3.5</td>\n",
              "    </tr>\n",
              "    <tr>\n",
              "      <th>145</th>\n",
              "      <td>6.7</td>\n",
              "      <td>3.0</td>\n",
              "    </tr>\n",
              "    <tr>\n",
              "      <th>83</th>\n",
              "      <td>6.0</td>\n",
              "      <td>2.7</td>\n",
              "    </tr>\n",
              "    <tr>\n",
              "      <th>57</th>\n",
              "      <td>4.9</td>\n",
              "      <td>2.4</td>\n",
              "    </tr>\n",
              "  </tbody>\n",
              "</table>\n",
              "<p>105 rows × 2 columns</p>\n",
              "</div>"
            ],
            "text/plain": [
              "     feature_1  feature_2\n",
              "148        6.2        3.4\n",
              "128        6.4        2.8\n",
              "22         4.6        3.6\n",
              "28         5.2        3.4\n",
              "3          4.6        3.1\n",
              "..         ...        ...\n",
              "95         5.7        3.0\n",
              "0          5.1        3.5\n",
              "145        6.7        3.0\n",
              "83         6.0        2.7\n",
              "57         4.9        2.4\n",
              "\n",
              "[105 rows x 2 columns]"
            ]
          },
          "metadata": {},
          "execution_count": 11
        }
      ]
    },
    {
      "cell_type": "markdown",
      "metadata": {
        "id": "g6BTk772zMI1"
      },
      "source": [
        "Plot 2d train and test data"
      ]
    },
    {
      "cell_type": "code",
      "metadata": {
        "colab": {
          "base_uri": "https://localhost:8080/",
          "height": 279
        },
        "id": "3s58lLorxzq8",
        "outputId": "d9076543-1df9-4c9e-fc8d-740421138a79"
      },
      "source": [
        "colormap = np.array(['green', 'blue', 'red'])\n",
        "plt.scatter(x_train['feature_1'], x_train['feature_2'], c=colormap[y_train['result']])\n",
        "\n",
        "plt.xlabel('feature 1')\n",
        "plt.ylabel('feature 2')\n",
        "\n",
        "plt.show()"
      ],
      "execution_count": 12,
      "outputs": [
        {
          "output_type": "display_data",
          "data": {
            "image/png": "[encoded data removed]",
            "text/plain": [
              "<Figure size 432x288 with 1 Axes>"
            ]
          },
          "metadata": {
            "needs_background": "light"
          }
        }
      ]
    },
    {
      "cell_type": "code",
      "metadata": {
        "colab": {
          "base_uri": "https://localhost:8080/",
          "height": 282
        },
        "id": "ZeDEwB91y3RC",
        "outputId": "86f18aba-d552-4511-e946-fc74dcf0ed34"
      },
      "source": [
        "colormap = np.array(['green', 'blue', 'red'])\n",
        "plt.scatter(x_test['feature_1'], x_test['feature_2'], c=colormap[y_test['result']])\n",
        "\n",
        "plt.xlabel('feature 1')\n",
        "plt.ylabel('feature 2')\n",
        "\n",
        "plt.show()"
      ],
      "execution_count": 13,
      "outputs": [
        {
          "output_type": "display_data",
          "data": {
            "image/png": "[encoded data removed]",
            "text/plain": [
              "<Figure size 432x288 with 1 Axes>"
            ]
          },
          "metadata": {
            "needs_background": "light"
          }
        }
      ]
    },
    {
      "cell_type": "markdown",
      "metadata": {
        "id": "tWLRQFmrowuM"
      },
      "source": [
        "Normalize"
      ]
    },
    {
      "cell_type": "code",
      "metadata": {
        "id": "nUXfYmNGoyPM"
      },
      "source": [
        "sc = StandardScaler()\n",
        "sc.fit(x_train)\n",
        "x_train = pd.DataFrame(sc.transform(x_train), columns=x_train.columns)\n",
        "x_test = pd.DataFrame(sc.transform(x_test), columns=x_test.columns)"
      ],
      "execution_count": 14,
      "outputs": []
    },
    {
      "cell_type": "markdown",
      "metadata": {
        "id": "WgCqrNvQpvvq"
      },
      "source": [
        "Fit"
      ]
    },
    {
      "cell_type": "code",
      "metadata": {
        "colab": {
          "base_uri": "https://localhost:8080/"
        },
        "id": "sl0bVwX-pxCq",
        "outputId": "0efb2d57-6239-401e-800f-2cf86391e140"
      },
      "source": [
        "model = LogisticRegression(multi_class='auto')\n",
        "model.fit(x_train, y_train['result'])\n",
        "\n",
        "model.score(x_train, y_train)"
      ],
      "execution_count": 15,
      "outputs": [
        {
          "output_type": "execute_result",
          "data": {
            "text/plain": [
              "0.8380952380952381"
            ]
          },
          "metadata": {},
          "execution_count": 15
        }
      ]
    },
    {
      "cell_type": "markdown",
      "metadata": {
        "id": "m_OUu-a8qgaG"
      },
      "source": [
        "Test"
      ]
    },
    {
      "cell_type": "code",
      "metadata": {
        "colab": {
          "base_uri": "https://localhost:8080/"
        },
        "id": "VnOLCu5Lp4ou",
        "outputId": "b7ac1801-9dfc-4f5d-ab0d-9475f6836ca3"
      },
      "source": [
        "y_predict = model.predict(x_test)\n",
        "print(classification_report(y_predict,y_test))"
      ],
      "execution_count": 16,
      "outputs": [
        {
          "output_type": "stream",
          "name": "stdout",
          "text": [
            "              precision    recall  f1-score   support\n",
            "\n",
            "           0       0.93      1.00      0.96        13\n",
            "           1       0.71      0.63      0.67        19\n",
            "           2       0.57      0.62      0.59        13\n",
            "\n",
            "    accuracy                           0.73        45\n",
            "   macro avg       0.74      0.75      0.74        45\n",
            "weighted avg       0.73      0.73      0.73        45\n",
            "\n"
          ]
        }
      ]
    },
    {
      "cell_type": "markdown",
      "metadata": {
        "id": "VS8gkaWXrWby"
      },
      "source": [
        "Confusion matrix"
      ]
    },
    {
      "cell_type": "code",
      "metadata": {
        "colab": {
          "base_uri": "https://localhost:8080/",
          "height": 295
        },
        "id": "fb4mQVvNrWJA",
        "outputId": "fcda39cf-7f2d-4dd9-fdf5-fecbd5a57e07"
      },
      "source": [
        "cm = confusion_matrix(y_predict, y_test)\n",
        "\n",
        "sns.heatmap(cm, annot=True, cmap='Greens')\n",
        "\n",
        "plt.xlabel('predict')\n",
        "plt.ylabel('y')\n",
        "plt.title('Confusion Matrix')\n",
        "\n",
        "plt.show()"
      ],
      "execution_count": 17,
      "outputs": [
        {
          "output_type": "display_data",
          "data": {
            "image/png": "[encoded data removed]",
            "text/plain": [
              "<Figure size 432x288 with 2 Axes>"
            ]
          },
          "metadata": {
            "needs_background": "light"
          }
        }
      ]
    }
  ]
}