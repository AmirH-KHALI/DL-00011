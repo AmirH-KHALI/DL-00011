{
  "nbformat": 4,
  "nbformat_minor": 0,
  "metadata": {
    "colab": {
      "name": "logreg_vs_linreg.ipynb",
      "provenance": [],
      "collapsed_sections": []
    },
    "kernelspec": {
      "name": "python3",
      "display_name": "Python 3"
    },
    "language_info": {
      "name": "python"
    }
  },
  "cells": [
    {
      "cell_type": "code",
      "metadata": {
        "id": "K5cyXeRPyaGp"
      },
      "source": [
        "import numpy as np\n",
        "import matplotlib.pyplot as plt\n",
        "from sklearn.linear_model import LogisticRegression, LinearRegression\n",
        "import seaborn as sns"
      ],
      "execution_count": null,
      "outputs": []
    },
    {
      "cell_type": "code",
      "metadata": {
        "colab": {
          "base_uri": "https://localhost:8080/",
          "height": 319
        },
        "id": "7jCC4KvEyHlx",
        "outputId": "6a556197-295d-4439-e121-6ae5a05faf2f"
      },
      "source": [
        "\n",
        "x_train = np.array([[2.3, 1.4, 2.6, 3.1, 1.8 , 2.8 , 5.4, 6.3, 5.8, 6.7, 4.9, 45.2]])\n",
        "y_train = np.array([[0,0,0,0,0,0,1,1,1,1,1,1]])\n",
        "\n",
        "fig = plt.figure(figsize = (10,4))\n",
        "ax = sns.scatterplot(x_train[0],y_train[0])"
      ],
      "execution_count": null,
      "outputs": [
        {
          "output_type": "stream",
          "name": "stderr",
          "text": [
            "/usr/local/lib/python3.7/dist-packages/seaborn/_decorators.py:43: FutureWarning: Pass the following variables as keyword args: x, y. From version 0.12, the only valid positional argument will be `data`, and passing other arguments without an explicit keyword will result in an error or misinterpretation.\n",
            "  FutureWarning\n"
          ]
        },
        {
          "output_type": "display_data",
          "data": {
            "image/png": "[encoded data removed]",
            "text/plain": [
              "<Figure size 720x288 with 1 Axes>"
            ]
          },
          "metadata": {
            "needs_background": "light"
          }
        }
      ]
    },
    {
      "cell_type": "code",
      "metadata": {
        "colab": {
          "base_uri": "https://localhost:8080/",
          "height": 421
        },
        "id": "mhevbhGk1Poo",
        "outputId": "6118bec0-32ed-485e-ad70-bc3e3cbda725"
      },
      "source": [
        "logreg = LogisticRegression(random_state=0).fit(x_train[0].reshape(-1,1), y_train[0].reshape(-1,1))\n",
        "\n",
        "w = logreg.coef_\n",
        "b = logreg.intercept_\n",
        "fig = plt.figure(figsize = (10,4))\n",
        "x_decision_boundary = -b / w[0]\n",
        "plt.axvline(x_decision_boundary, ls='--')\n",
        "plt.axhline(.5, ls='--')\n",
        "ax = sns.scatterplot(x_train[0],y_train[0])\n",
        "x = np.linspace(0,50)\n",
        "ax = sns.lineplot(x, (1/(1+np.exp(-(b + (w[0] * x))))), color = 'r')\n",
        "print(f'\\nx of the decision boundary is = {x_desision_boundary}')\n",
        "plt.show()"
      ],
      "execution_count": null,
      "outputs": [
        {
          "output_type": "stream",
          "name": "stderr",
          "text": [
            "/usr/local/lib/python3.7/dist-packages/sklearn/utils/validation.py:760: DataConversionWarning: A column-vector y was passed when a 1d array was expected. Please change the shape of y to (n_samples, ), for example using ravel().\n",
            "  y = column_or_1d(y, warn=True)\n",
            "/usr/local/lib/python3.7/dist-packages/seaborn/_decorators.py:43: FutureWarning: Pass the following variables as keyword args: x, y. From version 0.12, the only valid positional argument will be `data`, and passing other arguments without an explicit keyword will result in an error or misinterpretation.\n",
            "  FutureWarning\n",
            "/usr/local/lib/python3.7/dist-packages/seaborn/_decorators.py:43: FutureWarning: Pass the following variables as keyword args: x, y. From version 0.12, the only valid positional argument will be `data`, and passing other arguments without an explicit keyword will result in an error or misinterpretation.\n",
            "  FutureWarning\n"
          ]
        },
        {
          "output_type": "stream",
          "name": "stdout",
          "text": [
            "\n",
            "x of the decision boundary is = [0.24223204]\n"
          ]
        },
        {
          "output_type": "display_data",
          "data": {
            "image/png": "[encoded data removed]",
            "text/plain": [
              "<Figure size 720x288 with 1 Axes>"
            ]
          },
          "metadata": {
            "needs_background": "light"
          }
        }
      ]
    },
    {
      "cell_type": "code",
      "metadata": {
        "colab": {
          "base_uri": "https://localhost:8080/",
          "height": 387
        },
        "id": "sCUhZYqHqxl2",
        "outputId": "2eb1798f-db2c-47e2-8c2a-a9c8e7d5ab36"
      },
      "source": [
        "reg = LinearRegression().fit(x_train[0].reshape(-1,1), y_train[0].reshape(-1,1))\n",
        "\n",
        "w = reg.coef_\n",
        "b = reg.intercept_\n",
        "x_decision_boundary_reg = -(b - .5) / w[0]\n",
        "fig = plt.figure(figsize = (10,4))\n",
        "ax = sns.scatterplot(x_train[0],y_train[0])\n",
        "x = np.linspace(0,50)\n",
        "ax = sns.lineplot(x, b + (w[0] * x), color = 'r')\n",
        "plt.axvline(x_decision_boundary_reg, ls='--')\n",
        "print(f'\\nx of the decision boundary is = {x_decision_boundary_reg}')\n",
        "plt.axhline(.5, ls='--')\n",
        "\n",
        "plt.show()"
      ],
      "execution_count": null,
      "outputs": [
        {
          "output_type": "stream",
          "name": "stderr",
          "text": [
            "/usr/local/lib/python3.7/dist-packages/seaborn/_decorators.py:43: FutureWarning: Pass the following variables as keyword args: x, y. From version 0.12, the only valid positional argument will be `data`, and passing other arguments without an explicit keyword will result in an error or misinterpretation.\n",
            "  FutureWarning\n",
            "/usr/local/lib/python3.7/dist-packages/seaborn/_decorators.py:43: FutureWarning: Pass the following variables as keyword args: x, y. From version 0.12, the only valid positional argument will be `data`, and passing other arguments without an explicit keyword will result in an error or misinterpretation.\n",
            "  FutureWarning\n"
          ]
        },
        {
          "output_type": "stream",
          "name": "stdout",
          "text": [
            "\n",
            "x of the decision boundary is = [7.35833333]\n"
          ]
        },
        {
          "output_type": "display_data",
          "data": {
            "image/png": "[encoded data removed]",
            "text/plain": [
              "<Figure size 720x288 with 1 Axes>"
            ]
          },
          "metadata": {
            "needs_background": "light"
          }
        }
      ]
    }
  ]
}