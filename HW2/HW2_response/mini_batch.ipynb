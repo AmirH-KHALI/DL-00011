{
  "nbformat": 4,
  "nbformat_minor": 0,
  "metadata": {
    "colab": {
      "name": "mini_batch.ipynb",
      "provenance": [],
      "collapsed_sections": []
    },
    "kernelspec": {
      "name": "python3",
      "display_name": "Python 3"
    },
    "language_info": {
      "name": "python"
    },
    "accelerator": "GPU"
  },
  "cells": [
    {
      "cell_type": "markdown",
      "metadata": {
        "id": "azMCpqax4k0O"
      },
      "source": [
        "## 1 - Packages \n",
        "Let's run the cell below to import all the packages that we will need during the assignment. "
      ]
    },
    {
      "cell_type": "code",
      "metadata": {
        "id": "EAl0Atxu4Mks"
      },
      "source": [
        "import numpy as np\n",
        "import matplotlib.pyplot as plt"
      ],
      "execution_count": 1,
      "outputs": []
    },
    {
      "cell_type": "markdown",
      "metadata": {
        "id": "uSTMpvdE5CuR"
      },
      "source": [
        "## 2 - Initializing\n",
        "Let's initialize the parameters and bias with 1 as refered in the assignment."
      ]
    },
    {
      "cell_type": "code",
      "metadata": {
        "id": "GpLEK2Ck5Bcq"
      },
      "source": [
        "def init_parameters(dim):\n",
        "  w = np.ones(shape=(dim, 1),dtype=float)\n",
        "  b = 1.0\n",
        "  return w,b"
      ],
      "execution_count": 2,
      "outputs": []
    },
    {
      "cell_type": "markdown",
      "metadata": {
        "id": "kEJAGNDuNSj1"
      },
      "source": [
        "## 3 - Sigmoid function\n"
      ]
    },
    {
      "cell_type": "code",
      "metadata": {
        "id": "WfHx0ctVNR3x"
      },
      "source": [
        "def sigmoid(Z):\n",
        "  s = 1/(1+np.exp(-Z))\n",
        "  return s"
      ],
      "execution_count": 3,
      "outputs": []
    },
    {
      "cell_type": "markdown",
      "metadata": {
        "id": "G4M_va1NPO2s"
      },
      "source": [
        "## 4 - cost function\n"
      ]
    },
    {
      "cell_type": "code",
      "metadata": {
        "id": "Zh5KNyBNPScQ"
      },
      "source": [
        "def compute_cost(A, Y):\n",
        "  return -(np.dot(Y, np.log(A).T) + np.dot(1-Y, np.log(1-A).T)) / Y.shape[1]"
      ],
      "execution_count": 4,
      "outputs": []
    },
    {
      "cell_type": "markdown",
      "metadata": {
        "id": "uW6HboYwOLxg"
      },
      "source": [
        "## 5 - Forward pass\n"
      ]
    },
    {
      "cell_type": "code",
      "metadata": {
        "id": "4M9Xn-20OKi4"
      },
      "source": [
        "def forward_pass(w, b,x_train, y_train):\n",
        "  Z = np.dot(w.T, x_train) + b\n",
        "  # print(f\"w = {w} ---- > w' = {w.T}, b = {b}\")\n",
        "  # print(f\"\\n x_batch = {x_train}\")\n",
        "  # print(f\"\\n --------> w' . x_batch + b = {Z}\")\n",
        "  # print(f\"\\n --------> Z = {Z}]\")\n",
        "  A = sigmoid(Z)\n",
        "  # print(f\"\\n --------> A = sigmoid(Z) = {A} \\n\")\n",
        "  return A\n"
      ],
      "execution_count": 5,
      "outputs": []
    },
    {
      "cell_type": "markdown",
      "metadata": {
        "id": "HtviMPylO59g"
      },
      "source": [
        "## 6 - BackPropagation\n"
      ]
    },
    {
      "cell_type": "code",
      "metadata": {
        "id": "-55A7OQDO42G"
      },
      "source": [
        "def back_propagation(A, x_train, y_train):\n",
        "  m = y_train.shape[1]\n",
        "  # print(f\"\\nA = {A}\")\n",
        "  # print(f\"y_batch = {y_train}\")\n",
        "  # print(f\"x_batch = {x_train}\")\n",
        "  dZ = A - y_train\n",
        "  # print(f\"\\ndZ = A - y_batch = {dZ}\")\n",
        "  db = np.mean(dZ)\n",
        "  # print(f\"\\ndb = (1/2) np.sum(dZ) = {db} \")\n",
        "  dw = np.dot(x_train, dZ.T)/ m\n",
        "  # print(f\"\\ndw =1/2 (x_batch . dZ = ') { dw } \\n\")\n",
        "  return dw, db"
      ],
      "execution_count": 6,
      "outputs": []
    },
    {
      "cell_type": "markdown",
      "metadata": {
        "id": "8kGSRuusKa4i"
      },
      "source": [
        "## 7 - Propagation"
      ]
    },
    {
      "cell_type": "code",
      "metadata": {
        "id": "PkMI5rGyKe_A"
      },
      "source": [
        "def propagate(w, b, x_train, y_train):\n",
        "  A = forward_pass(w,b,x_train,y_train)\n",
        "  dw, db = back_propagation(A, x_train, y_train)\n",
        "  cost = compute_cost(A, y_train)\n",
        "  grads = {\"dw\":dw,\n",
        "           \"db\":db}\n",
        "  return grads, cost"
      ],
      "execution_count": 7,
      "outputs": []
    },
    {
      "cell_type": "markdown",
      "metadata": {
        "id": "kI23LCWtbp78"
      },
      "source": [
        "## 8 - Dataset"
      ]
    },
    {
      "cell_type": "code",
      "metadata": {
        "id": "SXuh0l4_bs0H",
        "colab": {
          "base_uri": "https://localhost:8080/"
        },
        "outputId": "6613a408-1f5c-4fbc-8e3c-726c412f0103"
      },
      "source": [
        "x_train = np.array([[22,25,47,52,46,56,55,60], \n",
        "                    [1,0,1,0,1,1,0,0]], dtype = np.float64)\n",
        "y_train = np.array([0,0,1,0,1,1,0,1], dtype = np.float64).reshape(1,8)\n",
        "\n",
        "x_train[0, :] *= .01\n",
        "print(\"X = \")\n",
        "print(x_train)"
      ],
      "execution_count": 8,
      "outputs": [
        {
          "output_type": "stream",
          "name": "stdout",
          "text": [
            "X = \n",
            "[[0.22 0.25 0.47 0.52 0.46 0.56 0.55 0.6 ]\n",
            " [1.   0.   1.   0.   1.   1.   0.   0.  ]]\n"
          ]
        }
      ]
    },
    {
      "cell_type": "markdown",
      "metadata": {
        "id": "12SdgrpAxTav"
      },
      "source": [
        "## 9 - Creating batches"
      ]
    },
    {
      "cell_type": "code",
      "metadata": {
        "id": "VZSiy4vLPIjF"
      },
      "source": [
        "def create_mini_batchs(x_train, y_train, batch_size):\n",
        "  batches = []\n",
        "  for i in range(0, y_train.shape[1], batch_size):\n",
        "    y_batch = y_train[:, i:i+batch_size]\n",
        "    x_batch = x_train[:, i:i+batch_size]\n",
        "    batches.append([x_batch, y_batch])\n",
        "  return batches\n"
      ],
      "execution_count": 9,
      "outputs": []
    },
    {
      "cell_type": "markdown",
      "metadata": {
        "id": "LL9KEpR6xZje"
      },
      "source": [
        "## 10 - Prediction"
      ]
    },
    {
      "cell_type": "code",
      "metadata": {
        "id": "_vSCl71vNuQt"
      },
      "source": [
        "def predict(w,b,X):\n",
        "  m = X.shape[1]\n",
        "  Y_prediction = np.zeros((1, m))\n",
        "  w = w.reshape(X.shape[0], 1)\n",
        "  A = sigmoid(np.dot(w.T,X)+b)\n",
        "  for i in range(A.shape[1]):\n",
        "    if A[0,i] > .5 :\n",
        "      Y_prediction[0,i] = 1.0\n",
        "    else:\n",
        "      Y_prediction[0,i] = 0.0\n",
        "      \n",
        "  return Y_prediction"
      ],
      "execution_count": 10,
      "outputs": []
    },
    {
      "cell_type": "markdown",
      "metadata": {
        "id": "LffuBoAkQZ0K"
      },
      "source": [
        "## 11 - Model"
      ]
    },
    {
      "cell_type": "code",
      "metadata": {
        "colab": {
          "base_uri": "https://localhost:8080/",
          "height": 1000
        },
        "id": "28fw47_xQdG1",
        "outputId": "4912654e-c03e-42e4-cd6a-448483385b36"
      },
      "source": [
        "\n",
        "epochs = 2\n",
        "learning_rate = 0.05\n",
        "batch_size = 2\n",
        "\n",
        "\n",
        "w, b = init_parameters(x_train.shape[0])\n",
        "\n",
        "costs = []\n",
        "\n",
        "batches = create_mini_batchs(x_train,y_train,batch_size)\n",
        "\n",
        "for i in range(epochs):\n",
        "  for batch in batches:\n",
        "    x_batch, y_batch = batch\n",
        "    grads, cost = propagate(w,b, x_batch, y_batch)\n",
        "    dw = grads[\"dw\"]\n",
        "    db = grads[\"db\"]\n",
        "    # print(f\"\\ncurrent w = {w}\")\n",
        "    w = w - learning_rate * dw\n",
        "    print(f\"w =  {w}\")\n",
        "    # print(f\"\\ncurrent b = {b}\")\n",
        "    b = b - learning_rate * db\n",
        "    print(f\"\\nb = {b} \\n\")\n",
        "    costs.append(cost)\n",
        "    print(f'cost in epoch {i + 1} and batch {batch} ----> {float(cost)} \\n')\n",
        "\n",
        "plt.plot(np.squeeze(costs))\n",
        "plt.ylabel('cost')\n",
        "plt.xlabel('iterations')\n",
        "plt.title(\"Learning rate =\" + str(learning_rate))\n",
        "plt.show()\n",
        "\n",
        "Y_prediction_train = predict(w,b, x_train)\n",
        "print(\"train accuracy: {} %\".format(100 - np.mean(np.abs(Y_prediction_train - y_train)) * 100))\n",
        "\n"
      ],
      "execution_count": 11,
      "outputs": [
        {
          "output_type": "stream",
          "name": "stdout",
          "text": [
            "w =  [[0.9901807 ]\n",
            " [0.97744922]]\n",
            "\n",
            "b = 0.9580167235780715 \n",
            "\n",
            "cost in epoch 1 and batch [array([[0.22, 0.25],\n",
            "       [1.  , 0.  ]]), array([[0., 0.]])] ----> 1.912517627913481 \n",
            "\n",
            "w =  [[0.98058173]\n",
            " [0.97952692]]\n",
            "\n",
            "b = 0.9397569346426939 \n",
            "\n",
            "cost in epoch 1 and batch [array([[0.47, 0.52],\n",
            "       [1.  , 0.  ]]), array([[1., 0.]])] ----> 0.8830430989624943 \n",
            "\n",
            "w =  [[0.98265798]\n",
            " [0.98361602]]\n",
            "\n",
            "b = 0.943846043069526 \n",
            "\n",
            "cost in epoch 1 and batch [array([[0.46, 0.56],\n",
            "       [1.  , 1.  ]]), array([[1., 1.]])] ----> 0.08532865629509048 \n",
            "\n",
            "w =  [[0.97411103]\n",
            " [0.98361602]]\n",
            "\n",
            "b = 0.9279027536376557 \n",
            "\n",
            "cost in epoch 1 and batch [array([[0.55, 0.6 ],\n",
            "       [0.  , 0.  ]]), array([[0., 1.]])] ----> 0.9419989440314482 \n",
            "\n",
            "w =  [[0.96442613]\n",
            " [0.96128133]]\n",
            "\n",
            "b = 0.886482970427297 \n",
            "\n",
            "cost in epoch 2 and batch [array([[0.22, 0.25],\n",
            "       [1.  , 0.  ]]), array([[0., 0.]])] ----> 1.839978382876785 \n",
            "\n",
            "w =  [[0.95509229]\n",
            " [0.96355724]]\n",
            "\n",
            "b = 0.8687521252396183 \n",
            "\n",
            "cost in epoch 2 and batch [array([[0.47, 0.52],\n",
            "       [1.  , 0.  ]]), array([[1., 0.]])] ----> 0.8531203105894013 \n",
            "\n",
            "w =  [[0.95736748]\n",
            " [0.96803748]]\n",
            "\n",
            "b = 0.8732323619491512 \n",
            "\n",
            "cost in epoch 2 and batch [array([[0.46, 0.56],\n",
            "       [1.  , 1.  ]]), array([[1., 1.]])] ----> 0.09388556041516327 \n",
            "\n",
            "w =  [[0.94919337]\n",
            " [0.96803748]]\n",
            "\n",
            "b = 0.8579376962516984 \n",
            "\n",
            "cost in epoch 2 and batch [array([[0.55, 0.6 ],\n",
            "       [0.  , 0.  ]]), array([[0., 1.]])] ----> 0.9157069369050892 \n",
            "\n"
          ]
        },
        {
          "output_type": "display_data",
          "data": {
            "image/png": "[encoded data removed]",
            "text/plain": [
              "<Figure size 432x288 with 1 Axes>"
            ]
          },
          "metadata": {
            "needs_background": "light"
          }
        },
        {
          "output_type": "stream",
          "name": "stdout",
          "text": [
            "train accuracy: 50.0 %\n"
          ]
        }
      ]
    },
    {
      "cell_type": "code",
      "metadata": {
        "id": "Deq895sqlqAy"
      },
      "source": [
        ""
      ],
      "execution_count": 11,
      "outputs": []
    }
  ]
}