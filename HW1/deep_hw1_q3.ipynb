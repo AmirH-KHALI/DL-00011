{
  "nbformat": 4,
  "nbformat_minor": 0,
  "metadata": {
    "colab": {
      "name": "deep_hw1.ipynb",
      "provenance": [],
      "collapsed_sections": []
    },
    "kernelspec": {
      "name": "python3",
      "display_name": "Python 3"
    },
    "language_info": {
      "name": "python"
    }
  },
  "cells": [
    {
      "cell_type": "markdown",
      "metadata": {
        "id": "GUW0veLSNepZ"
      },
      "source": [
        "# **Q3**"
      ]
    },
    {
      "cell_type": "code",
      "metadata": {
        "id": "0JLvJT9YNxTX"
      },
      "source": [
        "# !pip install keras"
      ],
      "execution_count": 1,
      "outputs": []
    },
    {
      "cell_type": "markdown",
      "metadata": {
        "id": "eRHV2PFMgYE7"
      },
      "source": [
        "Imports"
      ]
    },
    {
      "cell_type": "code",
      "metadata": {
        "id": "U71N8wDiNi7u"
      },
      "source": [
        "from keras.datasets import cifar10\n",
        "import numpy as np"
      ],
      "execution_count": 2,
      "outputs": []
    },
    {
      "cell_type": "markdown",
      "metadata": {
        "id": "SzE3Zaq2gfy6"
      },
      "source": [
        "Load data"
      ]
    },
    {
      "cell_type": "code",
      "metadata": {
        "id": "mHbY2oykNQTo"
      },
      "source": [
        "(x_train, y_train), (x_test, y_test) = cifar10.load_data()"
      ],
      "execution_count": 3,
      "outputs": []
    },
    {
      "cell_type": "markdown",
      "metadata": {
        "id": "7RuFh33Lgklb"
      },
      "source": [
        "X_train"
      ]
    },
    {
      "cell_type": "code",
      "metadata": {
        "colab": {
          "base_uri": "https://localhost:8080/"
        },
        "id": "_nLsMcJ9OQrn",
        "outputId": "612c4906-1776-4739-937d-a97f424576bd"
      },
      "source": [
        "print('x_train data type, rank, shape:')\n",
        "x_train.dtype, x_train.ndim, x_train.shape"
      ],
      "execution_count": 4,
      "outputs": [
        {
          "output_type": "stream",
          "name": "stdout",
          "text": [
            "x_train data type, rank, shape:\n"
          ]
        },
        {
          "output_type": "execute_result",
          "data": {
            "text/plain": [
              "(dtype('uint8'), 4, (50000, 32, 32, 3))"
            ]
          },
          "metadata": {},
          "execution_count": 4
        }
      ]
    },
    {
      "cell_type": "markdown",
      "metadata": {
        "id": "ypEM42RYgmlr"
      },
      "source": [
        "Y_train"
      ]
    },
    {
      "cell_type": "code",
      "metadata": {
        "colab": {
          "base_uri": "https://localhost:8080/"
        },
        "id": "oAoJOPg_P6jw",
        "outputId": "a77dcb8f-462a-4ade-ed2c-40f18673165b"
      },
      "source": [
        "print('y_train data type, rank, shape:')\n",
        "y_train.dtype, y_train.ndim, y_train.shape"
      ],
      "execution_count": 5,
      "outputs": [
        {
          "output_type": "stream",
          "name": "stdout",
          "text": [
            "y_train data type, rank, shape:\n"
          ]
        },
        {
          "output_type": "execute_result",
          "data": {
            "text/plain": [
              "(dtype('uint8'), 2, (50000, 1))"
            ]
          },
          "metadata": {},
          "execution_count": 5
        }
      ]
    },
    {
      "cell_type": "markdown",
      "metadata": {
        "id": "o5QIXKpwgobe"
      },
      "source": [
        "X_test"
      ]
    },
    {
      "cell_type": "code",
      "metadata": {
        "colab": {
          "base_uri": "https://localhost:8080/"
        },
        "id": "jFIPjr8FP_Yn",
        "outputId": "6fc6e296-13a9-4a9c-ec8a-146638752dee"
      },
      "source": [
        "print('x_test data type, rank, shape:')\n",
        "x_test.dtype, x_test.ndim, x_test.shape"
      ],
      "execution_count": 6,
      "outputs": [
        {
          "output_type": "stream",
          "name": "stdout",
          "text": [
            "x_test data type, rank, shape:\n"
          ]
        },
        {
          "output_type": "execute_result",
          "data": {
            "text/plain": [
              "(dtype('uint8'), 4, (10000, 32, 32, 3))"
            ]
          },
          "metadata": {},
          "execution_count": 6
        }
      ]
    },
    {
      "cell_type": "markdown",
      "metadata": {
        "id": "wT2O4Xo_gp5d"
      },
      "source": [
        "Y_test"
      ]
    },
    {
      "cell_type": "code",
      "metadata": {
        "colab": {
          "base_uri": "https://localhost:8080/"
        },
        "id": "4RYFOpwqQFNd",
        "outputId": "fc01c8ed-a261-4db2-d946-a2956c73daf0"
      },
      "source": [
        "print('y_test data type, rank, shape:')\n",
        "y_test.dtype, y_test.ndim, y_test.shape"
      ],
      "execution_count": 7,
      "outputs": [
        {
          "output_type": "stream",
          "name": "stdout",
          "text": [
            "y_test data type, rank, shape:\n"
          ]
        },
        {
          "output_type": "execute_result",
          "data": {
            "text/plain": [
              "(dtype('uint8'), 2, (10000, 1))"
            ]
          },
          "metadata": {},
          "execution_count": 7
        }
      ]
    }
  ]
}