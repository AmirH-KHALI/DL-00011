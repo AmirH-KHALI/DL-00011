{
  "nbformat": 4,
  "nbformat_minor": 0,
  "metadata": {
    "colab": {
      "name": "deep_hw1.ipynb",
      "provenance": [],
      "collapsed_sections": []
    },
    "kernelspec": {
      "name": "python3",
      "display_name": "Python 3"
    },
    "language_info": {
      "name": "python"
    }
  },
  "cells": [
    {
      "cell_type": "markdown",
      "metadata": {
        "id": "GUW0veLSNepZ"
      },
      "source": [
        "# **Q3**"
      ]
    },
    {
      "cell_type": "code",
      "metadata": {
        "id": "0JLvJT9YNxTX"
      },
      "source": [
        "# !pip install keras"
      ],
      "execution_count": 1,
      "outputs": []
    },
    {
      "cell_type": "markdown",
      "metadata": {
        "id": "eRHV2PFMgYE7"
      },
      "source": [
        "Imports"
      ]
    },
    {
      "cell_type": "code",
      "metadata": {
        "id": "U71N8wDiNi7u"
      },
      "source": [
        "from keras.datasets import cifar10\n",
        "import numpy as np"
      ],
      "execution_count": 2,
      "outputs": []
    },
    {
      "cell_type": "markdown",
      "metadata": {
        "id": "SzE3Zaq2gfy6"
      },
      "source": [
        "Load data"
      ]
    },
    {
      "cell_type": "code",
      "metadata": {
        "id": "mHbY2oykNQTo"
      },
      "source": [
        "(x_train, y_train), (x_test, y_test) = cifar10.load_data()"
      ],
      "execution_count": 3,
      "outputs": []
    },
    {
      "cell_type": "markdown",
      "metadata": {
        "id": "7RuFh33Lgklb"
      },
      "source": [
        "X_train"
      ]
    },
    {
      "cell_type": "code",
      "metadata": {
        "colab": {
          "base_uri": "https://localhost:8080/"
        },
        "id": "_nLsMcJ9OQrn",
        "outputId": "36404d88-628b-4396-b624-79750e41969a"
      },
      "source": [
        "print('x_train data type, rank, shape:')\n",
        "x_train.dtype, x_train.ndim, x_train.shape"
      ],
      "execution_count": 4,
      "outputs": [
        {
          "output_type": "stream",
          "name": "stdout",
          "text": [
            "x_train data type, rank, shape:\n"
          ]
        },
        {
          "output_type": "execute_result",
          "data": {
            "text/plain": [
              "(dtype('uint8'), 4, (50000, 32, 32, 3))"
            ]
          },
          "metadata": {},
          "execution_count": 4
        }
      ]
    },
    {
      "cell_type": "markdown",
      "metadata": {
        "id": "ypEM42RYgmlr"
      },
      "source": [
        "Y_train"
      ]
    },
    {
      "cell_type": "code",
      "metadata": {
        "colab": {
          "base_uri": "https://localhost:8080/"
        },
        "id": "oAoJOPg_P6jw",
        "outputId": "53e96ea5-d829-4b30-87e5-f48219290f73"
      },
      "source": [
        "print('y_train data type, rank, shape:')\n",
        "y_train.dtype, y_train.ndim, y_train.shape"
      ],
      "execution_count": 5,
      "outputs": [
        {
          "output_type": "stream",
          "name": "stdout",
          "text": [
            "y_train data type, rank, shape:\n"
          ]
        },
        {
          "output_type": "execute_result",
          "data": {
            "text/plain": [
              "(dtype('uint8'), 2, (50000, 1))"
            ]
          },
          "metadata": {},
          "execution_count": 5
        }
      ]
    },
    {
      "cell_type": "markdown",
      "metadata": {
        "id": "o5QIXKpwgobe"
      },
      "source": [
        "X_test"
      ]
    },
    {
      "cell_type": "code",
      "metadata": {
        "colab": {
          "base_uri": "https://localhost:8080/"
        },
        "id": "jFIPjr8FP_Yn",
        "outputId": "5d91224f-e90c-409d-e141-020cdd04128d"
      },
      "source": [
        "print('x_test data type, rank, shape:')\n",
        "x_test.dtype, x_test.ndim, x_test.shape"
      ],
      "execution_count": 6,
      "outputs": [
        {
          "output_type": "stream",
          "name": "stdout",
          "text": [
            "x_test data type, rank, shape:\n"
          ]
        },
        {
          "output_type": "execute_result",
          "data": {
            "text/plain": [
              "(dtype('uint8'), 4, (10000, 32, 32, 3))"
            ]
          },
          "metadata": {},
          "execution_count": 6
        }
      ]
    },
    {
      "cell_type": "markdown",
      "metadata": {
        "id": "wT2O4Xo_gp5d"
      },
      "source": [
        "Y_test"
      ]
    },
    {
      "cell_type": "code",
      "metadata": {
        "colab": {
          "base_uri": "https://localhost:8080/"
        },
        "id": "4RYFOpwqQFNd",
        "outputId": "a38106bd-8f1a-40ad-89d7-474ba5bc9d15"
      },
      "source": [
        "print('y_test data type, rank, shape:')\n",
        "y_test.dtype, y_test.ndim, y_test.shape"
      ],
      "execution_count": 7,
      "outputs": [
        {
          "output_type": "stream",
          "name": "stdout",
          "text": [
            "y_test data type, rank, shape:\n"
          ]
        },
        {
          "output_type": "execute_result",
          "data": {
            "text/plain": [
              "(dtype('uint8'), 2, (10000, 1))"
            ]
          },
          "metadata": {},
          "execution_count": 7
        }
      ]
    },
    {
      "cell_type": "markdown",
      "metadata": {
        "id": "KnzUhoF_R_62"
      },
      "source": [
        "# **Q4**"
      ]
    },
    {
      "cell_type": "markdown",
      "metadata": {
        "id": "sS4ultXpgrqZ"
      },
      "source": [
        "Imports"
      ]
    },
    {
      "cell_type": "code",
      "metadata": {
        "id": "3onopCx6SCGz"
      },
      "source": [
        "import numpy as np\n",
        "import matplotlib.pyplot as plt\n",
        "import pandas as pd\n",
        "from sklearn import datasets\n",
        "import math"
      ],
      "execution_count": 8,
      "outputs": []
    },
    {
      "cell_type": "markdown",
      "metadata": {
        "id": "fy0BqluGgtVV"
      },
      "source": [
        "Load data"
      ]
    },
    {
      "cell_type": "code",
      "metadata": {
        "id": "FzUTEvhQWRXs"
      },
      "source": [
        "iris = datasets.load_iris()\n",
        "\n",
        "X = iris.data\n",
        "X = pd.DataFrame(X, columns=['feature_1', 'feature_2', 'feature_3', 'feature_4'])\n",
        "\n",
        "Y = iris.target\n",
        "Y = pd.DataFrame(Y, columns=['result'])\n",
        "\n",
        "df = X.join(Y)\n",
        "classes = Y['result'].unique()\n",
        "features = X.columns\n",
        "prior = []"
      ],
      "execution_count": 9,
      "outputs": []
    },
    {
      "cell_type": "markdown",
      "metadata": {
        "id": "bBymd2BEmiG3"
      },
      "source": [
        "Calculate P[y] for each y"
      ]
    },
    {
      "cell_type": "code",
      "metadata": {
        "colab": {
          "base_uri": "https://localhost:8080/"
        },
        "id": "LWFUiitajjIt",
        "outputId": "81f2293b-0591-4292-81b8-6860253cbc9c"
      },
      "source": [
        "for c in classes:\n",
        "    prior.append(len(df[df['result'] == c]) / len(df))\n",
        "prior"
      ],
      "execution_count": 10,
      "outputs": [
        {
          "output_type": "execute_result",
          "data": {
            "text/plain": [
              "[0.3333333333333333, 0.3333333333333333, 0.3333333333333333]"
            ]
          },
          "metadata": {},
          "execution_count": 10
        }
      ]
    },
    {
      "cell_type": "markdown",
      "metadata": {
        "id": "CHZU3Bl4vG54"
      },
      "source": [
        "Calculate likelihood"
      ]
    },
    {
      "cell_type": "code",
      "metadata": {
        "id": "gEEMOrYDmucG"
      },
      "source": [
        "def calculate_likelihood(df, feature_name, feature_val, label):\n",
        "    df = df[df['result'] == label]\n",
        "    mean, var = df[feature_name].mean(), df[feature_name].var()\n",
        "    # return 1 / math.sqrt(2 * math.pi * var) * math.exp(((mean - feature_val) * (feature_val - mean)) / (2 * var)) #Gaussian\n",
        "    return len(df[(df[feature_name] == feature_val) & (df['result'] == label)]) / len(df[df['result'] == label])"
      ],
      "execution_count": 11,
      "outputs": []
    },
    {
      "cell_type": "markdown",
      "metadata": {
        "id": "sY5ch4ZDvjW3"
      },
      "source": [
        "Calculate P[Y | X] for all Y and find the maximum"
      ]
    },
    {
      "cell_type": "code",
      "metadata": {
        "id": "UGM3ipgZpB5K"
      },
      "source": [
        "Y_pred = []\n",
        "for x in X.values:\n",
        "    likelihood = [1] * len(classes)\n",
        "    for i in range(len(classes)):\n",
        "        for j in range(len(features)):\n",
        "            likelihood[i] *= calculate_likelihood(df, features[j], x[j], classes[i])\n",
        "\n",
        "    post_prob = [1] * len(classes)\n",
        "    for j in range(len(classes)):\n",
        "        post_prob[j] = likelihood[j] * prior[j]\n",
        "\n",
        "    Y_pred.append(np.argmax(post_prob))\n",
        "\n",
        "pred = pd.DataFrame(Y_pred, columns=['pred'])"
      ],
      "execution_count": 12,
      "outputs": []
    },
    {
      "cell_type": "markdown",
      "metadata": {
        "id": "O6lms4oAyISh"
      },
      "source": [
        "Accuracy"
      ]
    },
    {
      "cell_type": "code",
      "metadata": {
        "colab": {
          "base_uri": "https://localhost:8080/"
        },
        "id": "-oEd8wOE9HPl",
        "outputId": "1dbf2c0e-e7e3-4349-a07d-a784e90ae3eb"
      },
      "source": [
        "Y.shape\n"
      ],
      "execution_count": 13,
      "outputs": [
        {
          "output_type": "execute_result",
          "data": {
            "text/plain": [
              "(150, 1)"
            ]
          },
          "metadata": {},
          "execution_count": 13
        }
      ]
    },
    {
      "cell_type": "code",
      "metadata": {
        "colab": {
          "base_uri": "https://localhost:8080/"
        },
        "id": "lDCxUJqEuZDb",
        "outputId": "dc92391d-2908-4604-a444-e5189b743c3a"
      },
      "source": [
        "print(len(pred[pred.pred == Y.result]) / len(pred))"
      ],
      "execution_count": 14,
      "outputs": [
        {
          "output_type": "stream",
          "name": "stdout",
          "text": [
            "0.9666666666666667\n"
          ]
        }
      ]
    }
  ]
}