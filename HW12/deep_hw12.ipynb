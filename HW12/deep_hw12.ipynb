{
  "nbformat": 4,
  "nbformat_minor": 0,
  "metadata": {
    "colab": {
      "name": "deep_hw12.ipynb",
      "provenance": [],
      "collapsed_sections": [
        "PasjZ7eSia2e",
        "NFxKgHWaotf0"
      ]
    },
    "kernelspec": {
      "name": "python3",
      "display_name": "Python 3"
    },
    "language_info": {
      "name": "python"
    },
    "accelerator": "GPU"
  },
  "cells": [
    {
      "cell_type": "markdown",
      "source": [
        "# **Q1**"
      ],
      "metadata": {
        "id": "PasjZ7eSia2e"
      }
    },
    {
      "cell_type": "code",
      "source": [
        "# !pip install yfinance -q"
      ],
      "metadata": {
        "id": "0o1XMJuSO0Wh",
        "colab": {
          "base_uri": "https://localhost:8080/"
        },
        "outputId": "f4738eef-7216-44ff-d465-1b7272ce5fa3"
      },
      "execution_count": 11,
      "outputs": [
        {
          "output_type": "stream",
          "name": "stdout",
          "text": [
            "\u001b[K     |████████████████████████████████| 6.4 MB 11.9 MB/s \n",
            "\u001b[?25h"
          ]
        }
      ]
    },
    {
      "cell_type": "code",
      "execution_count": 40,
      "metadata": {
        "id": "8U0QlFo5Elzr"
      },
      "outputs": [],
      "source": [
        "import yfinance as yf\n",
        "import numpy as np\n",
        "import tensorflow as tf\n",
        "from sklearn.preprocessing import MinMaxScaler\n",
        "from matplotlib import pyplot as plt\n",
        "import pandas as pd"
      ]
    },
    {
      "cell_type": "code",
      "source": [
        "train_data = yf.download(\"BTC-USD\", start=\"2014-01-01\", end=\"2021-09-01\")\n",
        "test_data = yf.download(\"BTC-USD\", start=\"2021-09-02\", end=\"2021-12-26\")\n",
        "\n",
        "train_data.shape, test_data.shape"
      ],
      "metadata": {
        "colab": {
          "base_uri": "https://localhost:8080/"
        },
        "id": "SN1iCAvBmw3Q",
        "outputId": "77b8113f-0a18-460a-b91b-4ff3a62be9ef"
      },
      "execution_count": 174,
      "outputs": [
        {
          "output_type": "stream",
          "name": "stdout",
          "text": [
            "[*********************100%***********************]  1 of 1 completed\n",
            "[*********************100%***********************]  1 of 1 completed\n"
          ]
        },
        {
          "output_type": "execute_result",
          "data": {
            "text/plain": [
              "((2542, 6), (116, 6))"
            ]
          },
          "metadata": {},
          "execution_count": 174
        }
      ]
    },
    {
      "cell_type": "code",
      "source": [
        "plt.figure(figsize=(15,5))\n",
        "\n",
        "plt.plot(train_data.Close)\n",
        "plt.plot(test_data.Close)\n",
        "\n",
        "plt.ylabel('price')\n",
        "plt.xlabel('date')\n",
        "plt.legend(['train', 'test'])"
      ],
      "metadata": {
        "colab": {
          "base_uri": "https://localhost:8080/",
          "height": 351
        },
        "id": "MEVjYoBLvxc-",
        "outputId": "449814c2-a0ee-42f2-e3df-2179305cf130"
      },
      "execution_count": 175,
      "outputs": [
        {
          "output_type": "execute_result",
          "data": {
            "text/plain": [
              "<matplotlib.legend.Legend at 0x7f30f92ff410>"
            ]
          },
          "metadata": {},
          "execution_count": 175
        },
        {
          "output_type": "display_data",
          "data": {
            "image/png": "[encoded data removed]",
            "text/plain": [
              "<Figure size 1080x360 with 1 Axes>"
            ]
          },
          "metadata": {
            "needs_background": "light"
          }
        }
      ]
    },
    {
      "cell_type": "code",
      "source": [
        "train_data = train_data.Close.values.reshape(-1, 1)\n",
        "test_data = test_data.Close.values.reshape(-1, 1)\n",
        "\n",
        "scaler = MinMaxScaler()\n",
        "scaler.fit(train_data)\n",
        "\n",
        "train_normalized = scaler.fit_transform(train_data)\n",
        "test_normalized = scaler.fit_transform(test_data)\n",
        "\n",
        "train_normalized.shape, test_normalized.shape"
      ],
      "metadata": {
        "colab": {
          "base_uri": "https://localhost:8080/"
        },
        "id": "DiNp60cZNDOM",
        "outputId": "9fdee7c9-7a5c-4ca0-c099-3360e92104f9"
      },
      "execution_count": 42,
      "outputs": [
        {
          "output_type": "execute_result",
          "data": {
            "text/plain": [
              "((2542, 1), (116, 1))"
            ]
          },
          "metadata": {},
          "execution_count": 42
        }
      ]
    },
    {
      "cell_type": "code",
      "source": [
        "threshold = 60\n",
        "\n",
        "x_train = np.array([train_normalized[i - threshold : i] for i in range(threshold, train_normalized.shape[0])])\n",
        "y_train = np.array([train_normalized[i][0] for i in range(threshold, train_normalized.shape[0])])\n",
        "\n",
        "train_test = np.concatenate((train_normalized, test_normalized))\n",
        "x_test = np.array([train_test[i - threshold : i] for i in range(train_normalized.shape[0], train_test.shape[0])])\n",
        "y_test = np.array([train_test[i][0] for i in range(train_normalized.shape[0], train_test.shape[0])])\n",
        "\n",
        "x_train.shape, y_train.shape, x_test.shape, y_test.shape"
      ],
      "metadata": {
        "colab": {
          "base_uri": "https://localhost:8080/"
        },
        "id": "RE6Y4F1lonzO",
        "outputId": "f73b82f2-c6a8-439f-d60d-1d93b1728891"
      },
      "execution_count": 164,
      "outputs": [
        {
          "output_type": "execute_result",
          "data": {
            "text/plain": [
              "((2482, 60, 1), (2482,), (116, 60, 1), (116,))"
            ]
          },
          "metadata": {},
          "execution_count": 164
        }
      ]
    },
    {
      "cell_type": "code",
      "source": [
        "def build_model(name):\n",
        "    model = tf.keras.models.Sequential(\n",
        "        name=name, \n",
        "        layers= [tf.keras.layers.Input((60, 1)),\n",
        "                 tf.keras.layers.LSTM(units=50, return_sequences=True),\n",
        "                 tf.keras.layers.Dropout(0.2),\n",
        "                 tf.keras.layers.LSTM(units=50, return_sequences=True),\n",
        "                 tf.keras.layers.Dropout(0.2),\n",
        "                 tf.keras.layers.LSTM(units=50, return_sequences=True),\n",
        "                 tf.keras.layers.Dropout(0.2),\n",
        "                 tf.keras.layers.LSTM(units=50, return_sequences=False),\n",
        "                 tf.keras.layers.Dense(units=1)])\n",
        "    return model\n",
        "    \n",
        "model = build_model('q1')"
      ],
      "metadata": {
        "id": "ZsdwYLcsm0lu"
      },
      "execution_count": 68,
      "outputs": []
    },
    {
      "cell_type": "code",
      "source": [
        "model.summary()"
      ],
      "metadata": {
        "colab": {
          "base_uri": "https://localhost:8080/"
        },
        "id": "pNQSU5TQr6Uq",
        "outputId": "82773a3b-b739-4e23-f5f5-fef8eb713fec"
      },
      "execution_count": 69,
      "outputs": [
        {
          "output_type": "stream",
          "name": "stdout",
          "text": [
            "Model: \"q1\"\n",
            "_________________________________________________________________\n",
            " Layer (type)                Output Shape              Param #   \n",
            "=================================================================\n",
            " lstm_4 (LSTM)               (None, 60, 50)            10400     \n",
            "                                                                 \n",
            " dropout_4 (Dropout)         (None, 60, 50)            0         \n",
            "                                                                 \n",
            " lstm_5 (LSTM)               (None, 60, 50)            20200     \n",
            "                                                                 \n",
            " dropout_5 (Dropout)         (None, 60, 50)            0         \n",
            "                                                                 \n",
            " lstm_6 (LSTM)               (None, 60, 50)            20200     \n",
            "                                                                 \n",
            " dropout_6 (Dropout)         (None, 60, 50)            0         \n",
            "                                                                 \n",
            " lstm_7 (LSTM)               (None, 50)                20200     \n",
            "                                                                 \n",
            " dense_6 (Dense)             (None, 1)                 51        \n",
            "                                                                 \n",
            "=================================================================\n",
            "Total params: 71,051\n",
            "Trainable params: 71,051\n",
            "Non-trainable params: 0\n",
            "_________________________________________________________________\n"
          ]
        }
      ]
    },
    {
      "cell_type": "code",
      "source": [
        "model.compile('adam', 'mean_squared_error')\n",
        "model.fit(x_train, y_train, 32, 100)"
      ],
      "metadata": {
        "colab": {
          "base_uri": "https://localhost:8080/"
        },
        "id": "lJlPnuOpZ5Ol",
        "outputId": "c7af9847-cbb0-4f31-dc00-101fb0f29e2e"
      },
      "execution_count": 74,
      "outputs": [
        {
          "output_type": "stream",
          "name": "stdout",
          "text": [
            "Epoch 1/100\n",
            "78/78 [==============================] - 41s 60ms/step - loss: 4.0927e-04\n",
            "Epoch 2/100\n",
            "78/78 [==============================] - 5s 60ms/step - loss: 3.0578e-04\n",
            "Epoch 3/100\n",
            "78/78 [==============================] - 5s 60ms/step - loss: 3.8173e-04\n",
            "Epoch 4/100\n",
            "78/78 [==============================] - 5s 60ms/step - loss: 3.6366e-04\n",
            "Epoch 5/100\n",
            "78/78 [==============================] - 5s 59ms/step - loss: 3.1475e-04\n",
            "Epoch 6/100\n",
            "78/78 [==============================] - 5s 60ms/step - loss: 3.6607e-04\n",
            "Epoch 7/100\n",
            "78/78 [==============================] - 5s 60ms/step - loss: 2.6903e-04\n",
            "Epoch 8/100\n",
            "78/78 [==============================] - 5s 60ms/step - loss: 3.3671e-04\n",
            "Epoch 9/100\n",
            "78/78 [==============================] - 5s 60ms/step - loss: 3.4422e-04\n",
            "Epoch 10/100\n",
            "78/78 [==============================] - 5s 60ms/step - loss: 3.1079e-04\n",
            "Epoch 11/100\n",
            "78/78 [==============================] - 5s 60ms/step - loss: 3.0431e-04\n",
            "Epoch 12/100\n",
            "78/78 [==============================] - 5s 59ms/step - loss: 3.5022e-04\n",
            "Epoch 13/100\n",
            "78/78 [==============================] - 5s 60ms/step - loss: 3.0464e-04\n",
            "Epoch 14/100\n",
            "78/78 [==============================] - 5s 60ms/step - loss: 2.4055e-04\n",
            "Epoch 15/100\n",
            "78/78 [==============================] - 5s 59ms/step - loss: 4.3269e-04\n",
            "Epoch 16/100\n",
            "78/78 [==============================] - 5s 60ms/step - loss: 2.8703e-04\n",
            "Epoch 17/100\n",
            "78/78 [==============================] - 5s 59ms/step - loss: 3.2259e-04\n",
            "Epoch 18/100\n",
            "78/78 [==============================] - 5s 59ms/step - loss: 3.6594e-04\n",
            "Epoch 19/100\n",
            "78/78 [==============================] - 5s 60ms/step - loss: 3.1442e-04\n",
            "Epoch 20/100\n",
            "78/78 [==============================] - 5s 60ms/step - loss: 2.4351e-04\n",
            "Epoch 21/100\n",
            "78/78 [==============================] - 5s 60ms/step - loss: 2.6826e-04\n",
            "Epoch 22/100\n",
            "78/78 [==============================] - 5s 59ms/step - loss: 3.0879e-04\n",
            "Epoch 23/100\n",
            "78/78 [==============================] - 5s 60ms/step - loss: 3.0051e-04\n",
            "Epoch 24/100\n",
            "78/78 [==============================] - 5s 60ms/step - loss: 3.3615e-04\n",
            "Epoch 25/100\n",
            "78/78 [==============================] - 5s 60ms/step - loss: 2.4230e-04\n",
            "Epoch 26/100\n",
            "78/78 [==============================] - 5s 60ms/step - loss: 2.9334e-04\n",
            "Epoch 27/100\n",
            "78/78 [==============================] - 5s 60ms/step - loss: 2.7704e-04\n",
            "Epoch 28/100\n",
            "78/78 [==============================] - 5s 60ms/step - loss: 2.3440e-04\n",
            "Epoch 29/100\n",
            "78/78 [==============================] - 5s 60ms/step - loss: 2.6788e-04\n",
            "Epoch 30/100\n",
            "78/78 [==============================] - 5s 60ms/step - loss: 2.3902e-04\n",
            "Epoch 31/100\n",
            "78/78 [==============================] - 5s 60ms/step - loss: 2.3448e-04\n",
            "Epoch 32/100\n",
            "78/78 [==============================] - 5s 60ms/step - loss: 2.5905e-04\n",
            "Epoch 33/100\n",
            "78/78 [==============================] - 5s 61ms/step - loss: 3.0889e-04\n",
            "Epoch 34/100\n",
            "78/78 [==============================] - 5s 60ms/step - loss: 2.8885e-04\n",
            "Epoch 35/100\n",
            "78/78 [==============================] - 5s 60ms/step - loss: 2.1806e-04\n",
            "Epoch 36/100\n",
            "78/78 [==============================] - 5s 61ms/step - loss: 2.5671e-04\n",
            "Epoch 37/100\n",
            "78/78 [==============================] - 5s 60ms/step - loss: 2.9016e-04\n",
            "Epoch 38/100\n",
            "78/78 [==============================] - 5s 60ms/step - loss: 2.4493e-04\n",
            "Epoch 39/100\n",
            "78/78 [==============================] - 5s 60ms/step - loss: 2.5143e-04\n",
            "Epoch 40/100\n",
            "78/78 [==============================] - 5s 60ms/step - loss: 2.8273e-04\n",
            "Epoch 41/100\n",
            "78/78 [==============================] - 5s 60ms/step - loss: 2.4738e-04\n",
            "Epoch 42/100\n",
            "78/78 [==============================] - 5s 61ms/step - loss: 2.7513e-04\n",
            "Epoch 43/100\n",
            "78/78 [==============================] - 5s 60ms/step - loss: 2.2686e-04\n",
            "Epoch 44/100\n",
            "78/78 [==============================] - 5s 60ms/step - loss: 2.1981e-04\n",
            "Epoch 45/100\n",
            "78/78 [==============================] - 5s 60ms/step - loss: 2.2236e-04\n",
            "Epoch 46/100\n",
            "78/78 [==============================] - 5s 60ms/step - loss: 2.3925e-04\n",
            "Epoch 47/100\n",
            "78/78 [==============================] - 5s 60ms/step - loss: 2.6884e-04\n",
            "Epoch 48/100\n",
            "78/78 [==============================] - 5s 61ms/step - loss: 2.1929e-04\n",
            "Epoch 49/100\n",
            "78/78 [==============================] - 5s 60ms/step - loss: 2.1956e-04\n",
            "Epoch 50/100\n",
            "78/78 [==============================] - 5s 60ms/step - loss: 2.5995e-04\n",
            "Epoch 51/100\n",
            "78/78 [==============================] - 5s 60ms/step - loss: 2.2325e-04\n",
            "Epoch 52/100\n",
            "78/78 [==============================] - 5s 60ms/step - loss: 2.0812e-04\n",
            "Epoch 53/100\n",
            "78/78 [==============================] - 5s 60ms/step - loss: 2.4820e-04\n",
            "Epoch 54/100\n",
            "78/78 [==============================] - 5s 60ms/step - loss: 2.0773e-04\n",
            "Epoch 55/100\n",
            "78/78 [==============================] - 5s 60ms/step - loss: 2.3860e-04\n",
            "Epoch 56/100\n",
            "78/78 [==============================] - 5s 61ms/step - loss: 2.6639e-04\n",
            "Epoch 57/100\n",
            "78/78 [==============================] - 5s 60ms/step - loss: 2.3285e-04\n",
            "Epoch 58/100\n",
            "78/78 [==============================] - 5s 60ms/step - loss: 2.1327e-04\n",
            "Epoch 59/100\n",
            "78/78 [==============================] - 5s 60ms/step - loss: 1.9631e-04\n",
            "Epoch 60/100\n",
            "78/78 [==============================] - 5s 60ms/step - loss: 2.3240e-04\n",
            "Epoch 61/100\n",
            "78/78 [==============================] - 5s 60ms/step - loss: 2.1611e-04\n",
            "Epoch 62/100\n",
            "78/78 [==============================] - 5s 60ms/step - loss: 2.1765e-04\n",
            "Epoch 63/100\n",
            "78/78 [==============================] - 5s 61ms/step - loss: 2.2026e-04\n",
            "Epoch 64/100\n",
            "78/78 [==============================] - 5s 60ms/step - loss: 2.7570e-04\n",
            "Epoch 65/100\n",
            "78/78 [==============================] - 5s 60ms/step - loss: 3.2194e-04\n",
            "Epoch 66/100\n",
            "78/78 [==============================] - 5s 60ms/step - loss: 2.4229e-04\n",
            "Epoch 67/100\n",
            "78/78 [==============================] - 5s 60ms/step - loss: 2.1045e-04\n",
            "Epoch 68/100\n",
            "78/78 [==============================] - 5s 60ms/step - loss: 1.8095e-04\n",
            "Epoch 69/100\n",
            "78/78 [==============================] - 5s 60ms/step - loss: 2.1546e-04\n",
            "Epoch 70/100\n",
            "78/78 [==============================] - 5s 60ms/step - loss: 2.2508e-04\n",
            "Epoch 71/100\n",
            "78/78 [==============================] - 5s 61ms/step - loss: 2.3333e-04\n",
            "Epoch 72/100\n",
            "78/78 [==============================] - 5s 60ms/step - loss: 2.0219e-04\n",
            "Epoch 73/100\n",
            "78/78 [==============================] - 5s 61ms/step - loss: 2.0553e-04\n",
            "Epoch 74/100\n",
            "78/78 [==============================] - 5s 60ms/step - loss: 1.8970e-04\n",
            "Epoch 75/100\n",
            "78/78 [==============================] - 5s 61ms/step - loss: 1.7490e-04\n",
            "Epoch 76/100\n",
            "78/78 [==============================] - 5s 60ms/step - loss: 1.9303e-04\n",
            "Epoch 77/100\n",
            "78/78 [==============================] - 5s 60ms/step - loss: 2.0270e-04\n",
            "Epoch 78/100\n",
            "78/78 [==============================] - 5s 60ms/step - loss: 1.9881e-04\n",
            "Epoch 79/100\n",
            "78/78 [==============================] - 5s 60ms/step - loss: 2.0453e-04\n",
            "Epoch 80/100\n",
            "78/78 [==============================] - 5s 60ms/step - loss: 2.1570e-04\n",
            "Epoch 81/100\n",
            "78/78 [==============================] - 5s 60ms/step - loss: 2.0751e-04\n",
            "Epoch 82/100\n",
            "78/78 [==============================] - 5s 60ms/step - loss: 2.2380e-04\n",
            "Epoch 83/100\n",
            "78/78 [==============================] - 5s 60ms/step - loss: 2.7231e-04\n",
            "Epoch 84/100\n",
            "78/78 [==============================] - 5s 60ms/step - loss: 2.0848e-04\n",
            "Epoch 85/100\n",
            "78/78 [==============================] - 5s 60ms/step - loss: 1.8950e-04\n",
            "Epoch 86/100\n",
            "78/78 [==============================] - 5s 60ms/step - loss: 1.9453e-04\n",
            "Epoch 87/100\n",
            "78/78 [==============================] - 5s 60ms/step - loss: 1.9536e-04\n",
            "Epoch 88/100\n",
            "78/78 [==============================] - 5s 60ms/step - loss: 1.7884e-04\n",
            "Epoch 89/100\n",
            "78/78 [==============================] - 5s 60ms/step - loss: 1.8775e-04\n",
            "Epoch 90/100\n",
            "78/78 [==============================] - 5s 60ms/step - loss: 2.0430e-04\n",
            "Epoch 91/100\n",
            "78/78 [==============================] - 5s 60ms/step - loss: 1.8129e-04\n",
            "Epoch 92/100\n",
            "78/78 [==============================] - 5s 60ms/step - loss: 1.8198e-04\n",
            "Epoch 93/100\n",
            "78/78 [==============================] - 5s 60ms/step - loss: 2.3377e-04\n",
            "Epoch 94/100\n",
            "78/78 [==============================] - 5s 60ms/step - loss: 2.4190e-04\n",
            "Epoch 95/100\n",
            "78/78 [==============================] - 5s 60ms/step - loss: 1.9038e-04\n",
            "Epoch 96/100\n",
            "78/78 [==============================] - 5s 60ms/step - loss: 2.0016e-04\n",
            "Epoch 97/100\n",
            "78/78 [==============================] - 5s 61ms/step - loss: 3.1549e-04\n",
            "Epoch 98/100\n",
            "78/78 [==============================] - 5s 60ms/step - loss: 2.5215e-04\n",
            "Epoch 99/100\n",
            "78/78 [==============================] - 5s 61ms/step - loss: 2.3800e-04\n",
            "Epoch 100/100\n",
            "78/78 [==============================] - 5s 61ms/step - loss: 1.8659e-04\n"
          ]
        },
        {
          "output_type": "execute_result",
          "data": {
            "text/plain": [
              "<keras.callbacks.History at 0x7f30fa69b950>"
            ]
          },
          "metadata": {},
          "execution_count": 74
        }
      ]
    },
    {
      "cell_type": "code",
      "source": [
        "prediction = model.predict(x_test)\n",
        "\n",
        "plt.figure(figsize=(15,5))\n",
        "\n",
        "plt.plot(np.squeeze(scaler.inverse_transform(prediction)))\n",
        "plt.plot(np.squeeze(scaler.inverse_transform([y_test])))\n",
        "plt.xlabel('Day')\n",
        "plt.ylabel('Price')\n",
        "plt.legend([\"Predictions\", \"True value\"])"
      ],
      "metadata": {
        "id": "zPBngNHHllbq",
        "colab": {
          "base_uri": "https://localhost:8080/",
          "height": 351
        },
        "outputId": "08c96b08-1f2c-4f3f-ee95-1323fdbe2320"
      },
      "execution_count": 170,
      "outputs": [
        {
          "output_type": "execute_result",
          "data": {
            "text/plain": [
              "<matplotlib.legend.Legend at 0x7f30f844fe10>"
            ]
          },
          "metadata": {},
          "execution_count": 170
        },
        {
          "output_type": "display_data",
          "data": {
            "image/png": "[encoded data removed]",
            "text/plain": [
              "<Figure size 1080x360 with 1 Axes>"
            ]
          },
          "metadata": {
            "needs_background": "light"
          }
        }
      ]
    },
    {
      "cell_type": "code",
      "source": [
        "future_pred = test_normalized.copy()\n",
        "for i in range(90):\n",
        "    x_future = future_pred[future_pred.shape[0] - 60:].T\n",
        "    x_future = np.expand_dims(x_future, axis=2)\n",
        "    pred = model.predict(x_future)\n",
        "    future_pred = np.concatenate((future_pred, pred))"
      ],
      "metadata": {
        "id": "ZGSfu-U9M5hs"
      },
      "execution_count": 156,
      "outputs": []
    },
    {
      "cell_type": "code",
      "source": [
        "plt.figure(figsize=(15,5))\n",
        "\n",
        "plt.plot(np.squeeze(scaler.inverse_transform(future_pred)))\n",
        "plt.xlabel('Day')\n",
        "plt.ylabel('Price')"
      ],
      "metadata": {
        "colab": {
          "base_uri": "https://localhost:8080/",
          "height": 351
        },
        "id": "dqY7XFy6Rxp4",
        "outputId": "96fb217f-5fa2-49d8-bf7c-1ff798521f44"
      },
      "execution_count": 171,
      "outputs": [
        {
          "output_type": "execute_result",
          "data": {
            "text/plain": [
              "Text(0, 0.5, 'Price')"
            ]
          },
          "metadata": {},
          "execution_count": 171
        },
        {
          "output_type": "display_data",
          "data": {
            "image/png": "[encoded data removed]",
            "text/plain": [
              "<Figure size 1080x360 with 1 Axes>"
            ]
          },
          "metadata": {
            "needs_background": "light"
          }
        }
      ]
    },
    {
      "cell_type": "markdown",
      "source": [
        "# **Q2**"
      ],
      "metadata": {
        "id": "NFxKgHWaotf0"
      }
    },
    {
      "cell_type": "code",
      "source": [
        "from tensorflow.keras.layers import GRU, Dense, RepeatVector\n",
        "from tensorflow.keras.models import Sequential, load_model\n",
        "import numpy as np\n",
        "import os.path"
      ],
      "metadata": {
        "id": "TijU4hUUO3fn"
      },
      "execution_count": 1,
      "outputs": []
    },
    {
      "cell_type": "code",
      "source": [
        "from google.colab import drive\n",
        "drive.mount('/content/drive')"
      ],
      "metadata": {
        "colab": {
          "base_uri": "https://localhost:8080/"
        },
        "id": "G5CVm6hgv8yj",
        "outputId": "b3a0a7cb-1452-4bfe-e240-ff420036d5a5"
      },
      "execution_count": 2,
      "outputs": [
        {
          "output_type": "stream",
          "name": "stdout",
          "text": [
            "Mounted at /content/drive\n"
          ]
        }
      ]
    },
    {
      "cell_type": "code",
      "source": [
        "input_file = open('enc-dec.txt').read().split('\\n')\n",
        "symbols = 'abcdefghijklmnopqrstuvwxyz '\n",
        "\n",
        "x_train = np.zeros((len(input_file), 10, 27))\n",
        "y_train = np.zeros((len(input_file), 10, 27))\n",
        "\n",
        "for i in range(len(input_file)):\n",
        "    [e, d] = input_file[i].split('\\t')\n",
        "    \n",
        "    e += (10 - len(d)) * ' '\n",
        "    d += (10 - len(d)) * ' '\n",
        "    \n",
        "    for j in range(10):\n",
        "        x_train[i, j, symbols.find(e[j])] = 1\n",
        "        y_train[i, j, symbols.find(d[j])] = 1\n",
        "\n",
        "x_train.shape, y_train.shape"
      ],
      "metadata": {
        "colab": {
          "base_uri": "https://localhost:8080/"
        },
        "id": "Sh36_8PdKV_0",
        "outputId": "4a637b22-3150-440a-a414-f4fd80e77438"
      },
      "execution_count": 3,
      "outputs": [
        {
          "output_type": "execute_result",
          "data": {
            "text/plain": [
              "((152273, 10, 27), (152273, 10, 27))"
            ]
          },
          "metadata": {},
          "execution_count": 3
        }
      ]
    },
    {
      "cell_type": "code",
      "source": [
        "enc_sentence = \"onmltsrqpoihgrezcba lknrvjihgfueiizltflk\"\n",
        "\n",
        "splited = []\n",
        "for i in range(0, len(enc_sentence), 10):\n",
        "    splited.append(enc_sentence[i:i + 10])\n",
        "\n",
        "x_test = np.zeros((len(splited), 10, 27))\n",
        "for i in range(len(splited)):\n",
        "    for j in range(10):\n",
        "        x_test[i, j, symbols.find(splited[i][j])] = 1\n",
        "\n",
        "x_test.shape"
      ],
      "metadata": {
        "colab": {
          "base_uri": "https://localhost:8080/"
        },
        "id": "RfvrTbuQb0gd",
        "outputId": "457851b2-ccd6-42bf-94f3-7d4f773d4bf1"
      },
      "execution_count": 4,
      "outputs": [
        {
          "output_type": "execute_result",
          "data": {
            "text/plain": [
              "(4, 10, 27)"
            ]
          },
          "metadata": {},
          "execution_count": 4
        }
      ]
    },
    {
      "cell_type": "code",
      "source": [
        "base_path = '/content/drive/MyDrive/HW12_Models/model_'\n",
        "\n",
        "def train(name, layers, epochs=10):\n",
        "    current_epoch = 0\n",
        "    while os.path.isfile(base_path + name + '_ep_' + str(current_epoch + 1) + '.h5'):\n",
        "        current_epoch += 1\n",
        "    \n",
        "    if current_epoch == 0:\n",
        "        model = Sequential(name=name, layers=layers)\n",
        "    else:\n",
        "        model = load_model(base_path + name + '_ep_' + str(current_epoch) + '.h5')\n",
        "\n",
        "    model.compile(optimizer='adam', loss='categorical_crossentropy', metrics=['accuracy'])\n",
        "    for i in range(current_epoch, epochs):\n",
        "        print('Epoch ' + str(i + 1) + '/' + str(epochs))\n",
        "        model.fit(x_train, y_train, 32, 1)\n",
        "        model.save(base_path + name + '_ep_' + str(i + 1) + '.h5')\n",
        "    \n",
        "    print('Model', name, 'successfully trained!')\n",
        "    model.evaluate(x_train, y_train)\n",
        "\n",
        "    return model\n",
        "\n",
        "def test(model):\n",
        "    prediction = model.predict(x_test)\n",
        "    \n",
        "    result = ''\n",
        "    for i in range(prediction.shape[0]):\n",
        "        for j in range(prediction.shape[1]):\n",
        "            result += symbols[np.argmax(prediction[i, j])]\n",
        "    \n",
        "    print(result)"
      ],
      "metadata": {
        "id": "21KRgcPDFdmP"
      },
      "execution_count": 5,
      "outputs": []
    },
    {
      "cell_type": "code",
      "source": [
        "model = train(\n",
        "    name='1',\n",
        "    layers=[GRU(units=128, input_shape=(10, 27)),\n",
        "            RepeatVector(10),\n",
        "            GRU(units=128, return_sequences=True),\n",
        "            Dense(units=27, activation='softmax')])\n",
        "\n",
        "test(model)"
      ],
      "metadata": {
        "colab": {
          "base_uri": "https://localhost:8080/"
        },
        "id": "yIY3Nry-Hx5i",
        "outputId": "87fdf408-d9ff-47a0-d5d3-7d1a2701aaeb"
      },
      "execution_count": 6,
      "outputs": [
        {
          "output_type": "stream",
          "name": "stdout",
          "text": [
            "Model 1 successfully trained!\n",
            "4759/4759 [==============================] - 33s 6ms/step - loss: 0.1285 - accuracy: 0.9614\n",
            "    i        love     deep    plearning \n"
          ]
        }
      ]
    },
    {
      "cell_type": "code",
      "source": [
        "model = train(\n",
        "    name='2',\n",
        "    layers=[GRU(units=256, input_shape=(10, 27)),\n",
        "            RepeatVector(10),\n",
        "            GRU(units=256, return_sequences=True),\n",
        "            Dense(units=27, activation='softmax')])\n",
        "\n",
        "test(model)"
      ],
      "metadata": {
        "colab": {
          "base_uri": "https://localhost:8080/"
        },
        "id": "X9-fT6MmNkYP",
        "outputId": "00672ba3-048e-44ac-b921-f3cc7d5a7b08"
      },
      "execution_count": 7,
      "outputs": [
        {
          "output_type": "stream",
          "name": "stdout",
          "text": [
            "Epoch 4/10\n",
            "4759/4759 [==============================] - 70s 13ms/step - loss: 0.1597 - accuracy: 0.9517\n",
            "Epoch 5/10\n",
            "4759/4759 [==============================] - 62s 13ms/step - loss: 0.1412 - accuracy: 0.9570\n",
            "Epoch 6/10\n",
            "4759/4759 [==============================] - 62s 13ms/step - loss: 0.1311 - accuracy: 0.9597\n",
            "Epoch 7/10\n",
            "4759/4759 [==============================] - 62s 13ms/step - loss: 0.1232 - accuracy: 0.9620\n",
            "Epoch 8/10\n",
            "4759/4759 [==============================] - 62s 13ms/step - loss: 0.1181 - accuracy: 0.9634\n",
            "Epoch 9/10\n",
            "4759/4759 [==============================] - 63s 13ms/step - loss: 0.1131 - accuracy: 0.9650\n",
            "Epoch 10/10\n",
            "4759/4759 [==============================] - 62s 13ms/step - loss: 0.1096 - accuracy: 0.9661\n",
            "Model 2 successfully trained!\n",
            "4759/4759 [==============================] - 33s 7ms/step - loss: 0.1008 - accuracy: 0.9687\n",
            "a p i        love     deep    flearning \n"
          ]
        }
      ]
    },
    {
      "cell_type": "code",
      "source": [
        "model = train(\n",
        "    name='3',\n",
        "    layers=[GRU(units=128, input_shape=(10, 27)),\n",
        "            RepeatVector(10),\n",
        "            GRU(units=128, return_sequences=True),\n",
        "            GRU(units=128, return_sequences=True),\n",
        "            Dense(units=27, activation='softmax')])\n",
        "\n",
        "test(model)"
      ],
      "metadata": {
        "colab": {
          "base_uri": "https://localhost:8080/"
        },
        "id": "BByQ_uYANxL9",
        "outputId": "4aa4fff8-dc26-4384-8db4-854efd51819e"
      },
      "execution_count": 8,
      "outputs": [
        {
          "output_type": "stream",
          "name": "stdout",
          "text": [
            "Epoch 1/10\n",
            "4759/4759 [==============================] - 76s 15ms/step - loss: 2.1586 - accuracy: 0.3594\n",
            "Epoch 2/10\n",
            "4759/4759 [==============================] - 75s 16ms/step - loss: 1.1232 - accuracy: 0.6448\n",
            "Epoch 3/10\n",
            "4759/4759 [==============================] - 72s 15ms/step - loss: 0.5089 - accuracy: 0.8365\n",
            "Epoch 4/10\n",
            "4759/4759 [==============================] - 70s 15ms/step - loss: 0.3472 - accuracy: 0.8917\n",
            "Epoch 5/10\n",
            "4759/4759 [==============================] - 70s 15ms/step - loss: 0.2815 - accuracy: 0.9138\n",
            "Epoch 6/10\n",
            "4759/4759 [==============================] - 70s 15ms/step - loss: 0.2393 - accuracy: 0.9276\n",
            "Epoch 7/10\n",
            "4759/4759 [==============================] - 70s 15ms/step - loss: 0.2148 - accuracy: 0.9349\n",
            "Epoch 8/10\n",
            "4759/4759 [==============================] - 70s 15ms/step - loss: 0.1961 - accuracy: 0.9406\n",
            "Epoch 9/10\n",
            "4759/4759 [==============================] - 70s 15ms/step - loss: 0.1808 - accuracy: 0.9451\n",
            "Epoch 10/10\n",
            "4759/4759 [==============================] - 70s 15ms/step - loss: 0.1705 - accuracy: 0.9481\n",
            "Model 3 successfully trained!\n",
            "4759/4759 [==============================] - 37s 7ms/step - loss: 0.1620 - accuracy: 0.9504\n",
            "    i        love   cadeeg    plearning \n"
          ]
        }
      ]
    },
    {
      "cell_type": "code",
      "source": [
        "model = train(\n",
        "    name='4',\n",
        "    layers=[GRU(units=256, input_shape=(10, 27)),\n",
        "            RepeatVector(10),\n",
        "            GRU(units=256, return_sequences=True),\n",
        "            GRU(units=256, return_sequences=True),\n",
        "            Dense(units=27, activation='softmax')])\n",
        "\n",
        "test(model)"
      ],
      "metadata": {
        "colab": {
          "base_uri": "https://localhost:8080/"
        },
        "id": "DJJ9UoEFOBaG",
        "outputId": "f926ffbb-50c6-48e8-c947-10cd5edf89cd"
      },
      "execution_count": 10,
      "outputs": [
        {
          "output_type": "stream",
          "name": "stdout",
          "text": [
            "Epoch 1/10\n",
            "4759/4759 [==============================] - 93s 19ms/step - loss: 1.7679 - accuracy: 0.4636\n",
            "Epoch 2/10\n",
            "4759/4759 [==============================] - 91s 19ms/step - loss: 0.4668 - accuracy: 0.8506\n",
            "Epoch 3/10\n",
            "4759/4759 [==============================] - 90s 19ms/step - loss: 0.2627 - accuracy: 0.9178\n",
            "Epoch 4/10\n",
            "4759/4759 [==============================] - 88s 19ms/step - loss: 0.2080 - accuracy: 0.9353\n",
            "Epoch 5/10\n",
            "4759/4759 [==============================] - 88s 19ms/step - loss: 0.1781 - accuracy: 0.9447\n",
            "Epoch 6/10\n",
            "4759/4759 [==============================] - 88s 19ms/step - loss: 0.1611 - accuracy: 0.9500\n",
            "Epoch 7/10\n",
            "4759/4759 [==============================] - 89s 19ms/step - loss: 0.1490 - accuracy: 0.9538\n",
            "Epoch 8/10\n",
            "4759/4759 [==============================] - 89s 19ms/step - loss: 0.1405 - accuracy: 0.9563\n",
            "Epoch 9/10\n",
            "4759/4759 [==============================] - 88s 19ms/step - loss: 0.1336 - accuracy: 0.9584\n",
            "Epoch 10/10\n",
            "4759/4759 [==============================] - 88s 19ms/step - loss: 0.1269 - accuracy: 0.9605\n",
            "Model 4 successfully trained!\n",
            "4759/4759 [==============================] - 43s 9ms/step - loss: 0.1153 - accuracy: 0.9640\n",
            "   ei        love   b deep    clearning \n"
          ]
        }
      ]
    }
  ]
}